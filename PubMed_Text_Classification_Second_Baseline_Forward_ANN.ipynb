{
  "cells": [
    {
      "cell_type": "markdown",
      "metadata": {
        "id": "Y81qNA7CQw7a"
      },
      "source": [
        "# About the Project\n",
        "\n",
        "We would be reimplmenting the popular some of the models in the [PubMed 200k RCT: a Dataset for Sequential Sentence Classification in Medical Abstracts. ](https://https://arxiv.org/pdf/1710.06071.pdf)\n",
        "paper using the dataset provided in thier github [page](https://https://github.com/Franck-Dernoncourt/pubmed-rct)\n",
        "\n",
        "Abstract\n",
        "> PubMed 200k RCT is new dataset based on PubMed for sequential sentence classification. The dataset consists of approximately 200,000 abstracts of randomized controlled trials, totaling 2.3 million sentences. Each sentence of each abstract is labeled with their role in the abstract using one of the following classes: background, objective, method, result, or conclusion. The purpose of releasing this dataset is twofold. First, the majority of datasets for sequential short-text classification (i.e., classification of short texts that appear in sequences) are small: we hope that releasing a new large dataset will help develop more accurate algorithms for this task. Second, from an application perspective, researchers need better tools to efficiently skim through the literature. Automatically classifying each sentence in an abstract would help researchers read abstracts more efficiently, especially in fields where abstracts may be long, such as the medical field.\n"
      ]
    },
    {
      "cell_type": "markdown",
      "metadata": {
        "id": "u6LSuXjQQ0AH"
      },
      "source": [
        "This is an implementation of the second baseline of the paper. The was based on the Sequential Short-Text Classification with Recurrent and Convolutional Neural Networks [paper](https://https://arxiv.org/abs/1603.03827)\n",
        "\n",
        "Abstract\n",
        "> Recent approaches based on artificial neural networks (ANNs) have shown promising results for short-text classification. However, many short texts occur in sequences (e.g., sentences in a document or utterances in a dialog), and most existing ANN-based systems do not leverage the preceding short texts when classifying a subsequent one. In this work, we present a model based on recurrent neural networks and convolutional neural networks that incorporates the preceding short texts. Our model achieves state-of-the-art results on three different datasets for dialog act prediction."
      ]
    },
    {
      "cell_type": "markdown",
      "metadata": {
        "id": "d49RUOCFSSGB"
      },
      "source": [
        "# The Essential Libraries"
      ]
    },
    {
      "cell_type": "markdown",
      "metadata": {
        "id": "yZT7ElvIjrbx"
      },
      "source": [
        "## Import the model"
      ]
    },
    {
      "cell_type": "code",
      "execution_count": null,
      "metadata": {
        "id": "2XLfzP7njqbr",
        "colab": {
          "base_uri": "https://localhost:8080/"
        },
        "outputId": "9ea4bd1a-14db-4122-ccc5-1690a61e53d8"
      },
      "outputs": [
        {
          "output_type": "stream",
          "name": "stdout",
          "text": [
            "\u001b[?25l     \u001b[90m━━━━━━━━━━━━━━━━━━━━━━━━━━━━━━━━━━━━━━━━\u001b[0m \u001b[32m0.0/128.9 kB\u001b[0m \u001b[31m?\u001b[0m eta \u001b[36m-:--:--\u001b[0m\r\u001b[2K     \u001b[91m━━━━━━━━━\u001b[0m\u001b[91m╸\u001b[0m\u001b[90m━━━━━━━━━━━━━━━━━━━━━━━━━━━━━━\u001b[0m \u001b[32m30.7/128.9 kB\u001b[0m \u001b[31m1.1 MB/s\u001b[0m eta \u001b[36m0:00:01\u001b[0m\r\u001b[2K     \u001b[90m━━━━━━━━━━━━━━━━━━━━━━━━━━━━━━━━━━━━━━━━\u001b[0m \u001b[32m128.9/128.9 kB\u001b[0m \u001b[31m2.2 MB/s\u001b[0m eta \u001b[36m0:00:00\u001b[0m\n",
            "\u001b[?25h"
          ]
        }
      ],
      "source": [
        "!pip install keras-tuner -q"
      ]
    },
    {
      "cell_type": "code",
      "execution_count": null,
      "metadata": {
        "id": "9rjA_1sBSdjU"
      },
      "outputs": [],
      "source": [
        "import pandas as pd\n",
        "import matplotlib.pyplot as plt\n",
        "import numpy as np\n",
        "\n",
        "import seaborn as sns\n",
        "\n",
        "import keras_tuner\n",
        "\n",
        "from sklearn.metrics import accuracy_score, recall_score, precision_score, f1_score, classification_report, confusion_matrix\n",
        "from sklearn.preprocessing import LabelEncoder, OneHotEncoder\n",
        "\n",
        "import tensorflow as tf\n",
        "from tensorflow.keras.utils import plot_model\n",
        "from tensorflow.keras import Sequential\n",
        "from tensorflow.keras.layers import Input, Embedding, LSTM, Dense, Concatenate, GlobalMaxPooling1D\n",
        "from tensorflow.keras.models import Model\n",
        "from tensorflow.keras.layers import TextVectorization\n",
        "from tensorflow.keras.preprocessing.text import Tokenizer\n",
        "from tensorflow.keras.preprocessing.sequence import pad_sequences\n",
        "from sklearn.model_selection import train_test_split\n",
        "from sklearn.metrics import accuracy_score"
      ]
    },
    {
      "cell_type": "markdown",
      "metadata": {
        "id": "6JOed470RvGe"
      },
      "source": [
        "# The Dataset\n",
        "\n",
        "The dataset for provided for the model can be found in thier github page [here](https://https://github.com/Franck-Dernoncourt/pubmed-rct).\n",
        "\n",
        "The fist step is clonning the repo using\n",
        "\n",
        "```\n",
        "git clone repo\n",
        "```"
      ]
    },
    {
      "cell_type": "code",
      "execution_count": null,
      "metadata": {
        "colab": {
          "base_uri": "https://localhost:8080/"
        },
        "id": "7L33ewzUQwVo",
        "outputId": "e8fd2118-2133-4688-fd0e-21906ffcb34b"
      },
      "outputs": [
        {
          "output_type": "stream",
          "name": "stdout",
          "text": [
            "Cloning into 'pubmed-rct'...\n",
            "remote: Enumerating objects: 39, done.\u001b[K\n",
            "remote: Counting objects: 100% (14/14), done.\u001b[K\n",
            "remote: Compressing objects: 100% (9/9), done.\u001b[K\n",
            "remote: Total 39 (delta 8), reused 5 (delta 5), pack-reused 25\u001b[K\n",
            "Receiving objects: 100% (39/39), 177.08 MiB | 10.73 MiB/s, done.\n",
            "Resolving deltas: 100% (15/15), done.\n",
            "Updating files: 100% (13/13), done.\n"
          ]
        }
      ],
      "source": [
        "!git clone https://github.com/Franck-Dernoncourt/pubmed-rct.git"
      ]
    },
    {
      "cell_type": "markdown",
      "metadata": {
        "id": "UV_ZZ5wsR9cI"
      },
      "source": [
        "Some miscellaneous information:\n",
        "\n",
        "- PubMed 20k is a subset of PubMed 200k. I.e., any abstract present in PubMed 20k is also present in PubMed 200k.\n",
        "- `PubMed_200k_RCT` is the same as `PubMed_200k_RCT_numbers_replaced_with_at_sign`, except that in the latter all numbers had been replaced by `@`. (same for `PubMed_20k_RCT` vs. `PubMed_20k_RCT_numbers_replaced_with_at_sign`).\n",
        "- Since Github file size limit is [100 MiB](https://stackoverflow.com/a/43098961/395857), we had to compress `PubMed_200k_RCT\\train.7z` and `PubMed_200k_RCT_numbers_replaced_with_at_sign\\train.zip`.\n",
        "\n",
        "\n",
        "We need to uncompress the file. We would be using unzip function provided in the linux terminal by default\n",
        "\n",
        "\n",
        "\n",
        "```\n",
        "unzip directory_of_zip_file -d destination_directory\n",
        "```\n"
      ]
    },
    {
      "cell_type": "code",
      "execution_count": null,
      "metadata": {
        "colab": {
          "base_uri": "https://localhost:8080/"
        },
        "id": "RTb94KBxQht1",
        "outputId": "66362e21-cce3-49df-c690-7031e38c4d59"
      },
      "outputs": [
        {
          "output_type": "stream",
          "name": "stdout",
          "text": [
            "Archive:  /content/pubmed-rct/PubMed_200k_RCT_numbers_replaced_with_at_sign/train.zip\n",
            "  inflating: /content/pubmed-rct/PubMed_200k_RCT_numbers_replaced_with_at_sign/train.txt  \n"
          ]
        }
      ],
      "source": [
        "!unzip /content/pubmed-rct/PubMed_200k_RCT_numbers_replaced_with_at_sign/train.zip -d /content/pubmed-rct/PubMed_200k_RCT_numbers_replaced_with_at_sign"
      ]
    },
    {
      "cell_type": "markdown",
      "metadata": {
        "id": "FX1mXC-hSBHn"
      },
      "source": [
        "# Preprocess the Dataset"
      ]
    },
    {
      "cell_type": "code",
      "execution_count": null,
      "metadata": {
        "colab": {
          "base_uri": "https://localhost:8080/"
        },
        "id": "RhIJ0YdrSAXh",
        "outputId": "edee0aa3-4733-460f-8847-68db0d1896c3"
      },
      "outputs": [
        {
          "output_type": "stream",
          "name": "stdout",
          "text": [
            "###24293578\n",
            "OBJECTIVE\tTo investigate the efficacy of 6 weeks of daily low-dose oral prednisolone in improving pain , mobility , and systemic low-grade inflammation in the short term and whether the effect would be sustained at 12 weeks in older adults with moderate to severe knee osteoarthritis ( OA ) .\n",
            "METHODS\tA total of 125 patients with primary knee OA were randomized 1:1 ; 63 received 7.5 mg/day of prednisolone and 62 received placebo for 6 weeks .\n",
            "METHODS\tOutcome measures included pain reduction and improvement in function scores and systemic inflammation markers .\n",
            "METHODS\tPain was assessed using the visual analog pain scale ( 0-100 mm ) .\n",
            "METHODS\tSecondary outcome measures included the Western Ontario and McMaster Universities Osteoarthritis Index scores , patient global assessment ( PGA ) of the severity of knee OA , and 6-min walk distance ( 6MWD ) .\n",
            "METHODS\tSerum levels of interleukin 1 ( IL-1 ) , IL-6 , tumor necrosis factor ( TNF ) - , and high-sensitivity C-reactive protein ( hsCRP ) were measured .\n",
            "RESULTS\tThere was a clinically relevant reduction in the intervention group compared to the placebo group for knee pain , physical function , PGA , and 6MWD at 6 weeks .\n",
            "RESULTS\tThe mean difference between treatment arms ( 95 % CI ) was 10.9 ( 4.8-18 .0 ) , p < 0.001 ; 9.5 ( 3.7-15 .4 ) , p < 0.05 ; 15.7 ( 5.3-26 .1 ) , p < 0.001 ; and 86.9 ( 29.8-144 .1 ) , p < 0.05 , respectively .\n",
            "RESULTS\tFurther , there was a clinically relevant reduction in the serum levels of IL-1 , IL-6 , TNF - , and hsCRP at 6 weeks in the intervention group when compared to the placebo group .\n",
            "RESULTS\tThese differences remained significant at 12 weeks .\n",
            "RESULTS\tThe Outcome Measures in Rheumatology Clinical Trials-Osteoarthritis Research Society International responder rate was 65 % in the intervention group and 34 % in the placebo group ( p < 0.05 ) .\n",
            "CONCLUSIONS\tLow-dose oral prednisolone had both a short-term and a longer sustained effect resulting in less knee pain , better physical function , and attenuation of systemic inflammation in older patients with knee OA ( ClinicalTrials.gov identifier NCT01619163 ) .\n",
            "\n",
            "###24854809\n",
            "BACKGROUND\tEmotional eating is associated with overeating and the development of obesity .\n",
            "BACKGROUND\tYet , empirical evidence for individual ( trait ) differences in emotional eating and cognitive mechanisms that contribute to eating during sad mood remain equivocal .\n",
            "OBJECTIVE\tThe aim of this study was to test if attention bias for food moderates the effect of self-reported emotional eating during sad mood ( vs neutral mood ) on actual food intake .\n",
            "OBJECTIVE\tIt was expected that emotional eating is predictive of elevated attention for food and higher food intake after an experimentally induced sad mood and that attentional maintenance on food predicts food intake during a sad versus a neutral mood .\n",
            "METHODS\tParticipants ( N = 85 ) were randomly assigned to one of the two experimental mood induction conditions ( sad/neutral ) .\n",
            "METHODS\tAttentional biases for high caloric foods were measured by eye tracking during a visual probe task with pictorial food and neutral stimuli .\n",
            "METHODS\tSelf-reported emotional eating was assessed with the Dutch Eating Behavior Questionnaire ( DEBQ ) and ad libitum food intake was tested by a disguised food offer .\n",
            "RESULTS\tHierarchical multivariate regression modeling showed that self-reported emotional eating did not account for changes in attention allocation for food or food intake in either condition .\n",
            "RESULTS\tYet , attention maintenance on food cues was significantly related to increased intake specifically in the neutral condition , but not in the sad mood condition .\n",
            "CONCLUSIONS\tThe current findings show that self-reported emotional eating ( based on the DEBQ ) might not validly predict who overeats when sad , at least not in a laboratory setting with healthy women .\n",
            "CONCLUSIONS\tResults further suggest that attention maintenance on food relates to eating motivation when in a neutral affective state , and might therefore be a cognitive mechanism contributing to increased food intake in general , but maybe not during sad mood .\n",
            "\n",
            "###25165090\n",
            "BACKGROUND\tAlthough working smoke alarms halve deaths in residential fires , many households do not keep alarms operational .\n",
            "BACKGROUND\tWe tested whether theory-based education increases alarm operability .\n",
            "METHODS\tRandomised multiarm trial , with a single arm randomly selected for use each day , in low-income neighbourhoods in Maryland , USA .\n",
            "METHODS\tIntervention arms : ( 1 ) Full Education combining a health belief module with a social-cognitive theory module that provided hands-on practice installing alarm batteries and using the alarm 's hush button ; ( 2 ) Hands-on Practice social-cognitive module supplemented by typical fire department education ; ( 3 ) Current Norm receiving typical fire department education only .\n",
            "METHODS\tFour hundred and thirty-six homes recruited through churches or by knocking on doors in 2005-2008 .\n",
            "M\n"
          ]
        }
      ],
      "source": [
        "# Lets read a single file from the dataset\n",
        "with open(\"/content/pubmed-rct/PubMed_20k_RCT/train.txt\") as train:\n",
        "    data = train.read()\n",
        "\n",
        "#Let read a small portion of the dataset\n",
        "print(data[:5000])"
      ]
    },
    {
      "cell_type": "markdown",
      "metadata": {
        "id": "TqvnynHgSIVM"
      },
      "source": [
        "All files are in one file. So to use it we need to split into thier individual parts.\n",
        "\n",
        "- Articles are splitted using double newline\n",
        "- The ID of the articles are defined using ###\n",
        "- The part it identifies using a tab\n",
        "\n",
        "Lets wrap everything in a function"
      ]
    },
    {
      "cell_type": "code",
      "execution_count": null,
      "metadata": {
        "id": "bbP_ie2JSFsC"
      },
      "outputs": [],
      "source": [
        "# Let create a function to divide the dataset into smaller portions\n",
        "def split_pubmed_into_part(text):\n",
        "  # Split the dataset into articles\n",
        "  abstracts = text.split(\"\\n\\n\")\n",
        "\n",
        "  # Split the abstract into lines\n",
        "  abstracts = [line.split(\"\\n\") for line in abstracts]\n",
        "\n",
        "  # Let store all the values in a dictionary of\n",
        "  # ID, TAG, TEXT and store it.\n",
        "  All_lines = []\n",
        "\n",
        "  for abstract in abstracts:\n",
        "\n",
        "    ## Save the ID\n",
        "    ID = abstract[0].replace(\"###\", \"\")\n",
        "\n",
        "    no_sent = len(abstract)\n",
        "    ## Loop over the remaining values\n",
        "    for index in range(1, no_sent, 1):\n",
        "      line = abstract[index]\n",
        "      ## Split the line into tag, text\n",
        "      line = line.split(\"\\t\")\n",
        "\n",
        "      ## Save the ID, TAG and TEXT, PREV_TEXT1, PREV_TEXT2\n",
        "      ## Tage would be the first index and text the second index\n",
        "      if(index <= 2):\n",
        "        line_values = {\n",
        "            \"id\"  : ID,\n",
        "            \"index\": index,\n",
        "            \"tag\" : line[0],\n",
        "            \"text\": line[1],\n",
        "            \"prev_1\": \"\",\n",
        "            \"prev_2\":\"\"}\n",
        "\n",
        "      else:\n",
        "        line_values = {\n",
        "            \"id\"  : ID,\n",
        "            \"index\": index,\n",
        "            \"tag\" : line[0],\n",
        "            \"text\": line[1],\n",
        "            \"prev_1\": All_lines[-1]['text'],\n",
        "            \"prev_2\": All_lines[-2]['text']}\n",
        "\n",
        "      ## Append it to the dataset\n",
        "      All_lines.append(line_values)\n",
        "\n",
        "  return All_lines"
      ]
    },
    {
      "cell_type": "code",
      "execution_count": null,
      "metadata": {
        "colab": {
          "base_uri": "https://localhost:8080/"
        },
        "id": "HLy8YzzUSJ2Y",
        "outputId": "35fa299f-cab1-43b0-f455-ab9381d5d844"
      },
      "outputs": [
        {
          "output_type": "execute_result",
          "data": {
            "text/plain": [
              "[{'id': '24293578',\n",
              "  'index': 1,\n",
              "  'tag': 'OBJECTIVE',\n",
              "  'text': 'To investigate the efficacy of 6 weeks of daily low-dose oral prednisolone in improving pain , mobility , and systemic low-grade inflammation in the short term and whether the effect would be sustained at 12 weeks in older adults with moderate to severe knee osteoarthritis ( OA ) .',\n",
              "  'prev_1': '',\n",
              "  'prev_2': ''},\n",
              " {'id': '24293578',\n",
              "  'index': 2,\n",
              "  'tag': 'METHODS',\n",
              "  'text': 'A total of 125 patients with primary knee OA were randomized 1:1 ; 63 received 7.5 mg/day of prednisolone and 62 received placebo for 6 weeks .',\n",
              "  'prev_1': '',\n",
              "  'prev_2': ''},\n",
              " {'id': '24293578',\n",
              "  'index': 3,\n",
              "  'tag': 'METHODS',\n",
              "  'text': 'Outcome measures included pain reduction and improvement in function scores and systemic inflammation markers .',\n",
              "  'prev_1': 'A total of 125 patients with primary knee OA were randomized 1:1 ; 63 received 7.5 mg/day of prednisolone and 62 received placebo for 6 weeks .',\n",
              "  'prev_2': 'To investigate the efficacy of 6 weeks of daily low-dose oral prednisolone in improving pain , mobility , and systemic low-grade inflammation in the short term and whether the effect would be sustained at 12 weeks in older adults with moderate to severe knee osteoarthritis ( OA ) .'},\n",
              " {'id': '24293578',\n",
              "  'index': 4,\n",
              "  'tag': 'METHODS',\n",
              "  'text': 'Pain was assessed using the visual analog pain scale ( 0-100 mm ) .',\n",
              "  'prev_1': 'Outcome measures included pain reduction and improvement in function scores and systemic inflammation markers .',\n",
              "  'prev_2': 'A total of 125 patients with primary knee OA were randomized 1:1 ; 63 received 7.5 mg/day of prednisolone and 62 received placebo for 6 weeks .'},\n",
              " {'id': '24293578',\n",
              "  'index': 5,\n",
              "  'tag': 'METHODS',\n",
              "  'text': 'Secondary outcome measures included the Western Ontario and McMaster Universities Osteoarthritis Index scores , patient global assessment ( PGA ) of the severity of knee OA , and 6-min walk distance ( 6MWD ) .',\n",
              "  'prev_1': 'Pain was assessed using the visual analog pain scale ( 0-100 mm ) .',\n",
              "  'prev_2': 'Outcome measures included pain reduction and improvement in function scores and systemic inflammation markers .'}]"
            ]
          },
          "metadata": {},
          "execution_count": 7
        }
      ],
      "source": [
        "values = split_pubmed_into_part(data)\n",
        "values[:5]"
      ]
    },
    {
      "cell_type": "code",
      "execution_count": null,
      "metadata": {
        "colab": {
          "base_uri": "https://localhost:8080/",
          "height": 206
        },
        "id": "sM6siZFsSNaD",
        "outputId": "2988ec85-4867-46a7-83ed-7260c269af6d"
      },
      "outputs": [
        {
          "output_type": "execute_result",
          "data": {
            "text/plain": [
              "         id  index        tag  \\\n",
              "0  24293578      1  OBJECTIVE   \n",
              "1  24293578      2    METHODS   \n",
              "2  24293578      3    METHODS   \n",
              "3  24293578      4    METHODS   \n",
              "4  24293578      5    METHODS   \n",
              "\n",
              "                                                text  \\\n",
              "0  To investigate the efficacy of 6 weeks of dail...   \n",
              "1  A total of 125 patients with primary knee OA w...   \n",
              "2  Outcome measures included pain reduction and i...   \n",
              "3  Pain was assessed using the visual analog pain...   \n",
              "4  Secondary outcome measures included the Wester...   \n",
              "\n",
              "                                              prev_1  \\\n",
              "0                                                      \n",
              "1                                                      \n",
              "2  A total of 125 patients with primary knee OA w...   \n",
              "3  Outcome measures included pain reduction and i...   \n",
              "4  Pain was assessed using the visual analog pain...   \n",
              "\n",
              "                                              prev_2  \n",
              "0                                                     \n",
              "1                                                     \n",
              "2  To investigate the efficacy of 6 weeks of dail...  \n",
              "3  A total of 125 patients with primary knee OA w...  \n",
              "4  Outcome measures included pain reduction and i...  "
            ],
            "text/html": [
              "\n",
              "  <div id=\"df-b63cdc2c-d41d-4080-a206-26986ce84687\" class=\"colab-df-container\">\n",
              "    <div>\n",
              "<style scoped>\n",
              "    .dataframe tbody tr th:only-of-type {\n",
              "        vertical-align: middle;\n",
              "    }\n",
              "\n",
              "    .dataframe tbody tr th {\n",
              "        vertical-align: top;\n",
              "    }\n",
              "\n",
              "    .dataframe thead th {\n",
              "        text-align: right;\n",
              "    }\n",
              "</style>\n",
              "<table border=\"1\" class=\"dataframe\">\n",
              "  <thead>\n",
              "    <tr style=\"text-align: right;\">\n",
              "      <th></th>\n",
              "      <th>id</th>\n",
              "      <th>index</th>\n",
              "      <th>tag</th>\n",
              "      <th>text</th>\n",
              "      <th>prev_1</th>\n",
              "      <th>prev_2</th>\n",
              "    </tr>\n",
              "  </thead>\n",
              "  <tbody>\n",
              "    <tr>\n",
              "      <th>0</th>\n",
              "      <td>24293578</td>\n",
              "      <td>1</td>\n",
              "      <td>OBJECTIVE</td>\n",
              "      <td>To investigate the efficacy of 6 weeks of dail...</td>\n",
              "      <td></td>\n",
              "      <td></td>\n",
              "    </tr>\n",
              "    <tr>\n",
              "      <th>1</th>\n",
              "      <td>24293578</td>\n",
              "      <td>2</td>\n",
              "      <td>METHODS</td>\n",
              "      <td>A total of 125 patients with primary knee OA w...</td>\n",
              "      <td></td>\n",
              "      <td></td>\n",
              "    </tr>\n",
              "    <tr>\n",
              "      <th>2</th>\n",
              "      <td>24293578</td>\n",
              "      <td>3</td>\n",
              "      <td>METHODS</td>\n",
              "      <td>Outcome measures included pain reduction and i...</td>\n",
              "      <td>A total of 125 patients with primary knee OA w...</td>\n",
              "      <td>To investigate the efficacy of 6 weeks of dail...</td>\n",
              "    </tr>\n",
              "    <tr>\n",
              "      <th>3</th>\n",
              "      <td>24293578</td>\n",
              "      <td>4</td>\n",
              "      <td>METHODS</td>\n",
              "      <td>Pain was assessed using the visual analog pain...</td>\n",
              "      <td>Outcome measures included pain reduction and i...</td>\n",
              "      <td>A total of 125 patients with primary knee OA w...</td>\n",
              "    </tr>\n",
              "    <tr>\n",
              "      <th>4</th>\n",
              "      <td>24293578</td>\n",
              "      <td>5</td>\n",
              "      <td>METHODS</td>\n",
              "      <td>Secondary outcome measures included the Wester...</td>\n",
              "      <td>Pain was assessed using the visual analog pain...</td>\n",
              "      <td>Outcome measures included pain reduction and i...</td>\n",
              "    </tr>\n",
              "  </tbody>\n",
              "</table>\n",
              "</div>\n",
              "    <div class=\"colab-df-buttons\">\n",
              "\n",
              "  <div class=\"colab-df-container\">\n",
              "    <button class=\"colab-df-convert\" onclick=\"convertToInteractive('df-b63cdc2c-d41d-4080-a206-26986ce84687')\"\n",
              "            title=\"Convert this dataframe to an interactive table.\"\n",
              "            style=\"display:none;\">\n",
              "\n",
              "  <svg xmlns=\"http://www.w3.org/2000/svg\" height=\"24px\" viewBox=\"0 -960 960 960\">\n",
              "    <path d=\"M120-120v-720h720v720H120Zm60-500h600v-160H180v160Zm220 220h160v-160H400v160Zm0 220h160v-160H400v160ZM180-400h160v-160H180v160Zm440 0h160v-160H620v160ZM180-180h160v-160H180v160Zm440 0h160v-160H620v160Z\"/>\n",
              "  </svg>\n",
              "    </button>\n",
              "\n",
              "  <style>\n",
              "    .colab-df-container {\n",
              "      display:flex;\n",
              "      gap: 12px;\n",
              "    }\n",
              "\n",
              "    .colab-df-convert {\n",
              "      background-color: #E8F0FE;\n",
              "      border: none;\n",
              "      border-radius: 50%;\n",
              "      cursor: pointer;\n",
              "      display: none;\n",
              "      fill: #1967D2;\n",
              "      height: 32px;\n",
              "      padding: 0 0 0 0;\n",
              "      width: 32px;\n",
              "    }\n",
              "\n",
              "    .colab-df-convert:hover {\n",
              "      background-color: #E2EBFA;\n",
              "      box-shadow: 0px 1px 2px rgba(60, 64, 67, 0.3), 0px 1px 3px 1px rgba(60, 64, 67, 0.15);\n",
              "      fill: #174EA6;\n",
              "    }\n",
              "\n",
              "    .colab-df-buttons div {\n",
              "      margin-bottom: 4px;\n",
              "    }\n",
              "\n",
              "    [theme=dark] .colab-df-convert {\n",
              "      background-color: #3B4455;\n",
              "      fill: #D2E3FC;\n",
              "    }\n",
              "\n",
              "    [theme=dark] .colab-df-convert:hover {\n",
              "      background-color: #434B5C;\n",
              "      box-shadow: 0px 1px 3px 1px rgba(0, 0, 0, 0.15);\n",
              "      filter: drop-shadow(0px 1px 2px rgba(0, 0, 0, 0.3));\n",
              "      fill: #FFFFFF;\n",
              "    }\n",
              "  </style>\n",
              "\n",
              "    <script>\n",
              "      const buttonEl =\n",
              "        document.querySelector('#df-b63cdc2c-d41d-4080-a206-26986ce84687 button.colab-df-convert');\n",
              "      buttonEl.style.display =\n",
              "        google.colab.kernel.accessAllowed ? 'block' : 'none';\n",
              "\n",
              "      async function convertToInteractive(key) {\n",
              "        const element = document.querySelector('#df-b63cdc2c-d41d-4080-a206-26986ce84687');\n",
              "        const dataTable =\n",
              "          await google.colab.kernel.invokeFunction('convertToInteractive',\n",
              "                                                    [key], {});\n",
              "        if (!dataTable) return;\n",
              "\n",
              "        const docLinkHtml = 'Like what you see? Visit the ' +\n",
              "          '<a target=\"_blank\" href=https://colab.research.google.com/notebooks/data_table.ipynb>data table notebook</a>'\n",
              "          + ' to learn more about interactive tables.';\n",
              "        element.innerHTML = '';\n",
              "        dataTable['output_type'] = 'display_data';\n",
              "        await google.colab.output.renderOutput(dataTable, element);\n",
              "        const docLink = document.createElement('div');\n",
              "        docLink.innerHTML = docLinkHtml;\n",
              "        element.appendChild(docLink);\n",
              "      }\n",
              "    </script>\n",
              "  </div>\n",
              "\n",
              "\n",
              "<div id=\"df-7622d992-630b-47dc-b7aa-6d120a40c5ee\">\n",
              "  <button class=\"colab-df-quickchart\" onclick=\"quickchart('df-7622d992-630b-47dc-b7aa-6d120a40c5ee')\"\n",
              "            title=\"Suggest charts\"\n",
              "            style=\"display:none;\">\n",
              "\n",
              "<svg xmlns=\"http://www.w3.org/2000/svg\" height=\"24px\"viewBox=\"0 0 24 24\"\n",
              "     width=\"24px\">\n",
              "    <g>\n",
              "        <path d=\"M19 3H5c-1.1 0-2 .9-2 2v14c0 1.1.9 2 2 2h14c1.1 0 2-.9 2-2V5c0-1.1-.9-2-2-2zM9 17H7v-7h2v7zm4 0h-2V7h2v10zm4 0h-2v-4h2v4z\"/>\n",
              "    </g>\n",
              "</svg>\n",
              "  </button>\n",
              "\n",
              "<style>\n",
              "  .colab-df-quickchart {\n",
              "      --bg-color: #E8F0FE;\n",
              "      --fill-color: #1967D2;\n",
              "      --hover-bg-color: #E2EBFA;\n",
              "      --hover-fill-color: #174EA6;\n",
              "      --disabled-fill-color: #AAA;\n",
              "      --disabled-bg-color: #DDD;\n",
              "  }\n",
              "\n",
              "  [theme=dark] .colab-df-quickchart {\n",
              "      --bg-color: #3B4455;\n",
              "      --fill-color: #D2E3FC;\n",
              "      --hover-bg-color: #434B5C;\n",
              "      --hover-fill-color: #FFFFFF;\n",
              "      --disabled-bg-color: #3B4455;\n",
              "      --disabled-fill-color: #666;\n",
              "  }\n",
              "\n",
              "  .colab-df-quickchart {\n",
              "    background-color: var(--bg-color);\n",
              "    border: none;\n",
              "    border-radius: 50%;\n",
              "    cursor: pointer;\n",
              "    display: none;\n",
              "    fill: var(--fill-color);\n",
              "    height: 32px;\n",
              "    padding: 0;\n",
              "    width: 32px;\n",
              "  }\n",
              "\n",
              "  .colab-df-quickchart:hover {\n",
              "    background-color: var(--hover-bg-color);\n",
              "    box-shadow: 0 1px 2px rgba(60, 64, 67, 0.3), 0 1px 3px 1px rgba(60, 64, 67, 0.15);\n",
              "    fill: var(--button-hover-fill-color);\n",
              "  }\n",
              "\n",
              "  .colab-df-quickchart-complete:disabled,\n",
              "  .colab-df-quickchart-complete:disabled:hover {\n",
              "    background-color: var(--disabled-bg-color);\n",
              "    fill: var(--disabled-fill-color);\n",
              "    box-shadow: none;\n",
              "  }\n",
              "\n",
              "  .colab-df-spinner {\n",
              "    border: 2px solid var(--fill-color);\n",
              "    border-color: transparent;\n",
              "    border-bottom-color: var(--fill-color);\n",
              "    animation:\n",
              "      spin 1s steps(1) infinite;\n",
              "  }\n",
              "\n",
              "  @keyframes spin {\n",
              "    0% {\n",
              "      border-color: transparent;\n",
              "      border-bottom-color: var(--fill-color);\n",
              "      border-left-color: var(--fill-color);\n",
              "    }\n",
              "    20% {\n",
              "      border-color: transparent;\n",
              "      border-left-color: var(--fill-color);\n",
              "      border-top-color: var(--fill-color);\n",
              "    }\n",
              "    30% {\n",
              "      border-color: transparent;\n",
              "      border-left-color: var(--fill-color);\n",
              "      border-top-color: var(--fill-color);\n",
              "      border-right-color: var(--fill-color);\n",
              "    }\n",
              "    40% {\n",
              "      border-color: transparent;\n",
              "      border-right-color: var(--fill-color);\n",
              "      border-top-color: var(--fill-color);\n",
              "    }\n",
              "    60% {\n",
              "      border-color: transparent;\n",
              "      border-right-color: var(--fill-color);\n",
              "    }\n",
              "    80% {\n",
              "      border-color: transparent;\n",
              "      border-right-color: var(--fill-color);\n",
              "      border-bottom-color: var(--fill-color);\n",
              "    }\n",
              "    90% {\n",
              "      border-color: transparent;\n",
              "      border-bottom-color: var(--fill-color);\n",
              "    }\n",
              "  }\n",
              "</style>\n",
              "\n",
              "  <script>\n",
              "    async function quickchart(key) {\n",
              "      const quickchartButtonEl =\n",
              "        document.querySelector('#' + key + ' button');\n",
              "      quickchartButtonEl.disabled = true;  // To prevent multiple clicks.\n",
              "      quickchartButtonEl.classList.add('colab-df-spinner');\n",
              "      try {\n",
              "        const charts = await google.colab.kernel.invokeFunction(\n",
              "            'suggestCharts', [key], {});\n",
              "      } catch (error) {\n",
              "        console.error('Error during call to suggestCharts:', error);\n",
              "      }\n",
              "      quickchartButtonEl.classList.remove('colab-df-spinner');\n",
              "      quickchartButtonEl.classList.add('colab-df-quickchart-complete');\n",
              "    }\n",
              "    (() => {\n",
              "      let quickchartButtonEl =\n",
              "        document.querySelector('#df-7622d992-630b-47dc-b7aa-6d120a40c5ee button');\n",
              "      quickchartButtonEl.style.display =\n",
              "        google.colab.kernel.accessAllowed ? 'block' : 'none';\n",
              "    })();\n",
              "  </script>\n",
              "</div>\n",
              "\n",
              "    </div>\n",
              "  </div>\n"
            ]
          },
          "metadata": {},
          "execution_count": 8
        }
      ],
      "source": [
        "# Lets make it look better\n",
        "train = pd.DataFrame(values)\n",
        "train.head()"
      ]
    },
    {
      "cell_type": "markdown",
      "metadata": {
        "id": "imr8d_r3Sk7-"
      },
      "source": [
        "## Lets wrap it into a simple function"
      ]
    },
    {
      "cell_type": "code",
      "execution_count": null,
      "metadata": {
        "id": "qFqyY2oLSN1-"
      },
      "outputs": [],
      "source": [
        "def preprocess_pubmed(path):\n",
        "  # Lets read a single file from the dataset\n",
        "  with open(path) as text:\n",
        "      data = text.read()\n",
        "\n",
        "\n",
        "  # Preprocess it\n",
        "  values = split_pubmed_into_part(data)\n",
        "\n",
        "  # Save it has a dataframe\n",
        "  df = pd.DataFrame(values)\n",
        "\n",
        "  return df"
      ]
    },
    {
      "cell_type": "markdown",
      "metadata": {
        "id": "R83bxgXUMpUq"
      },
      "source": [
        "## Read the dataset"
      ]
    },
    {
      "cell_type": "markdown",
      "metadata": {
        "id": "eCJuzHPtOa71"
      },
      "source": [
        "20K"
      ]
    },
    {
      "cell_type": "code",
      "execution_count": null,
      "metadata": {
        "id": "HVxHpbCsMqwq"
      },
      "outputs": [],
      "source": [
        "train_20k_path = \"/content/pubmed-rct/PubMed_20k_RCT_numbers_replaced_with_at_sign/train.txt\"\n",
        "test_20k_path = \"/content/pubmed-rct/PubMed_20k_RCT_numbers_replaced_with_at_sign/test.txt\"\n",
        "dev_20k_path = \"/content/pubmed-rct/PubMed_20k_RCT_numbers_replaced_with_at_sign/dev.txt\""
      ]
    },
    {
      "cell_type": "code",
      "execution_count": null,
      "metadata": {
        "id": "Wv6W46iwM-DF"
      },
      "outputs": [],
      "source": [
        "train_20k = preprocess_pubmed(train_20k_path)\n",
        "test_20k = preprocess_pubmed(test_20k_path)\n",
        "dev_20k = preprocess_pubmed(dev_20k_path)"
      ]
    },
    {
      "cell_type": "markdown",
      "metadata": {
        "id": "l0M20rOaOcaP"
      },
      "source": [
        "200k"
      ]
    },
    {
      "cell_type": "code",
      "execution_count": null,
      "metadata": {
        "id": "goydZn9yOQ2f"
      },
      "outputs": [],
      "source": [
        "train_200k_path = \"/content/pubmed-rct/PubMed_200k_RCT_numbers_replaced_with_at_sign/train.txt\"\n",
        "test_200k_path = \"/content/pubmed-rct/PubMed_200k_RCT_numbers_replaced_with_at_sign/test.txt\"\n",
        "dev_200k_path = \"/content/pubmed-rct/PubMed_200k_RCT_numbers_replaced_with_at_sign/dev.txt\""
      ]
    },
    {
      "cell_type": "code",
      "execution_count": null,
      "metadata": {
        "id": "AeE_LPmqOeaf"
      },
      "outputs": [],
      "source": [
        "train_200k = preprocess_pubmed(train_200k_path)\n",
        "test_200k = preprocess_pubmed(test_200k_path)\n",
        "dev_200k = preprocess_pubmed(dev_200k_path)"
      ]
    },
    {
      "cell_type": "markdown",
      "metadata": {
        "id": "eDGKTEJY92i2"
      },
      "source": [
        "## Explore the Dataset"
      ]
    },
    {
      "cell_type": "markdown",
      "metadata": {
        "id": "X6oNDMcrDE59"
      },
      "source": [
        "The dataset is constructed upon the MEDLINE/PubMed Database published in\n",
        "2016 , which we will refer to as PubMed in this paper. PubMed can be accessed online by anyone, free of charge and without having to go through any registration. It contains 24,358,442 records.\n",
        "A record typically consists of metadata on one article, as well as the article’s title and in many cases its abstract.\n",
        "\n",
        "The dataset comes in two version a larger 200k abstract which can be to much for so many application and also a 20k version. So we would be making our initial experimentation with the 20k then make our final experimentation with the 200k dataset"
      ]
    },
    {
      "cell_type": "code",
      "execution_count": null,
      "metadata": {
        "colab": {
          "base_uri": "https://localhost:8080/"
        },
        "id": "FpdqtXSyE4Ku",
        "outputId": "ae9cb358-f4ba-4b20-f5d8-7f8fe4663c34"
      },
      "outputs": [
        {
          "output_type": "stream",
          "name": "stdout",
          "text": [
            "=============20k=============\n",
            "Train 20k files contain 15000\n",
            "Test  20k files contain  2500\n",
            "Dev   20k files contain  2500\n"
          ]
        }
      ],
      "source": [
        "print(\"=============20k=============\")\n",
        "print(f\"Train 20k files contain {train_20k.id.nunique()}\")\n",
        "print(f\"Test  20k files contain  {test_20k.id.nunique()}\")\n",
        "print(f\"Dev   20k files contain  {dev_20k.id.nunique()}\")"
      ]
    },
    {
      "cell_type": "markdown",
      "metadata": {
        "id": "B32trzEHQqfg"
      },
      "source": [
        "Total sentences: 20000"
      ]
    },
    {
      "cell_type": "code",
      "execution_count": null,
      "metadata": {
        "colab": {
          "base_uri": "https://localhost:8080/"
        },
        "id": "qM6Aw6f394Tl",
        "outputId": "55288476-b20b-400a-ab7f-6f4603b64b75"
      },
      "outputs": [
        {
          "output_type": "stream",
          "name": "stdout",
          "text": [
            "=============200k==============\n",
            "Train 200k files contain 190654\n",
            "Test  200k files contain   2500\n",
            "Dev   200k files contain   2500\n"
          ]
        }
      ],
      "source": [
        "print(\"=============200k==============\")\n",
        "print(f\"Train 200k files contain {train_200k.id.nunique()}\")\n",
        "print(f\"Test  200k files contain   {test_200k.id.nunique()}\")\n",
        "print(f\"Dev   200k files contain   {dev_200k.id.nunique()}\")"
      ]
    },
    {
      "cell_type": "markdown",
      "metadata": {
        "id": "ZT8hDZlcQkh4"
      },
      "source": [
        "Total sentences: 195,654"
      ]
    },
    {
      "cell_type": "code",
      "execution_count": null,
      "metadata": {
        "colab": {
          "base_uri": "https://localhost:8080/",
          "height": 452
        },
        "id": "EKkpMEZEUxZn",
        "outputId": "d4da712e-13c4-4f5b-dec1-e58f21eb6e8c"
      },
      "outputs": [
        {
          "output_type": "display_data",
          "data": {
            "text/plain": [
              "<Figure size 640x480 with 1 Axes>"
            ],
            "image/png": "[encoded data removed]"
          },
          "metadata": {}
        }
      ],
      "source": [
        "train_200k_vc = train_200k['tag'].value_counts()\n",
        "test_200k_vc = test_200k['tag'].value_counts()\n",
        "dev_200k_vc = dev_200k['tag'].value_counts()\n",
        "\n",
        "train_200k_vc.plot(kind = 'barh',\n",
        "                   label = 'Train')\n",
        "test_200k_vc.plot(kind = 'barh',\n",
        "                  color = 'red',\n",
        "                  label = \"Test\",\n",
        "                  left = train_200k_vc.values)\n",
        "dev_200k_vc.plot(kind = 'barh',\n",
        "                 color = 'black',\n",
        "                 label = \"Dev\",\n",
        "                 left = np.array([train_200k_vc.values, dev_200k_vc.values]).sum(axis = 0))\n",
        "\n",
        "plt.title(\"Number of sentences per Label\")\n",
        "plt.legend()\n",
        "plt.show()"
      ]
    },
    {
      "cell_type": "code",
      "execution_count": null,
      "metadata": {
        "colab": {
          "base_uri": "https://localhost:8080/",
          "height": 452
        },
        "id": "jynAUyrt9sOX",
        "outputId": "6d60fe86-22b8-4463-d339-af7a5b5c9166"
      },
      "outputs": [
        {
          "output_type": "display_data",
          "data": {
            "text/plain": [
              "<Figure size 640x480 with 1 Axes>"
            ],
            "image/png": "[encoded data removed]"
          },
          "metadata": {}
        }
      ],
      "source": [
        "train_20k_vc = train_20k['tag'].value_counts()\n",
        "test_20k_vc = test_20k['tag'].value_counts()\n",
        "dev_20k_vc = dev_20k['tag'].value_counts()\n",
        "\n",
        "train_20k_vc.plot(kind = 'barh',\n",
        "                   label = 'Train')\n",
        "test_20k_vc.plot(kind = 'barh',\n",
        "                  color = 'red',\n",
        "                  label = \"Test\",\n",
        "                  left = train_20k_vc.values)\n",
        "\n",
        "dev_20k_vc.plot(kind = 'barh',\n",
        "                 color = 'black',\n",
        "                 label = \"Dev\",\n",
        "                 left = np.array([train_20k_vc.values, test_20k_vc.values]).sum(axis = 0))\n",
        "\n",
        "plt.title(\"Number of sentences per Label\")\n",
        "plt.legend()\n",
        "plt.show()"
      ]
    },
    {
      "cell_type": "markdown",
      "metadata": {
        "id": "quHq8cYLSs64"
      },
      "source": [
        "## Lets check some portions"
      ]
    },
    {
      "cell_type": "code",
      "execution_count": null,
      "metadata": {
        "colab": {
          "base_uri": "https://localhost:8080/",
          "height": 206
        },
        "id": "oQLXHyUbSsFU",
        "outputId": "f6204e0c-bd45-40c1-dfee-76be5e4f3417"
      },
      "outputs": [
        {
          "output_type": "execute_result",
          "data": {
            "text/plain": [
              "         id  index         tag  \\\n",
              "0  24491034      1  BACKGROUND   \n",
              "1  24491034      2  BACKGROUND   \n",
              "2  24491034      3     METHODS   \n",
              "3  24491034      4     METHODS   \n",
              "4  24491034      5     METHODS   \n",
              "\n",
              "                                                text  \\\n",
              "0  The emergence of HIV as a chronic condition me...   \n",
              "1  This paper describes the design and evaluation...   \n",
              "2  This study is designed as a randomised control...   \n",
              "3  The intervention group will participate in the...   \n",
              "4  The program is based on self-efficacy theory a...   \n",
              "\n",
              "                                              prev_1  \\\n",
              "0                                                      \n",
              "1                                                      \n",
              "2  This paper describes the design and evaluation...   \n",
              "3  This study is designed as a randomised control...   \n",
              "4  The intervention group will participate in the...   \n",
              "\n",
              "                                              prev_2  \n",
              "0                                                     \n",
              "1                                                     \n",
              "2  The emergence of HIV as a chronic condition me...  \n",
              "3  This paper describes the design and evaluation...  \n",
              "4  This study is designed as a randomised control...  "
            ],
            "text/html": [
              "\n",
              "  <div id=\"df-1386cbb6-0bc0-4589-bda1-b6576168b0df\" class=\"colab-df-container\">\n",
              "    <div>\n",
              "<style scoped>\n",
              "    .dataframe tbody tr th:only-of-type {\n",
              "        vertical-align: middle;\n",
              "    }\n",
              "\n",
              "    .dataframe tbody tr th {\n",
              "        vertical-align: top;\n",
              "    }\n",
              "\n",
              "    .dataframe thead th {\n",
              "        text-align: right;\n",
              "    }\n",
              "</style>\n",
              "<table border=\"1\" class=\"dataframe\">\n",
              "  <thead>\n",
              "    <tr style=\"text-align: right;\">\n",
              "      <th></th>\n",
              "      <th>id</th>\n",
              "      <th>index</th>\n",
              "      <th>tag</th>\n",
              "      <th>text</th>\n",
              "      <th>prev_1</th>\n",
              "      <th>prev_2</th>\n",
              "    </tr>\n",
              "  </thead>\n",
              "  <tbody>\n",
              "    <tr>\n",
              "      <th>0</th>\n",
              "      <td>24491034</td>\n",
              "      <td>1</td>\n",
              "      <td>BACKGROUND</td>\n",
              "      <td>The emergence of HIV as a chronic condition me...</td>\n",
              "      <td></td>\n",
              "      <td></td>\n",
              "    </tr>\n",
              "    <tr>\n",
              "      <th>1</th>\n",
              "      <td>24491034</td>\n",
              "      <td>2</td>\n",
              "      <td>BACKGROUND</td>\n",
              "      <td>This paper describes the design and evaluation...</td>\n",
              "      <td></td>\n",
              "      <td></td>\n",
              "    </tr>\n",
              "    <tr>\n",
              "      <th>2</th>\n",
              "      <td>24491034</td>\n",
              "      <td>3</td>\n",
              "      <td>METHODS</td>\n",
              "      <td>This study is designed as a randomised control...</td>\n",
              "      <td>This paper describes the design and evaluation...</td>\n",
              "      <td>The emergence of HIV as a chronic condition me...</td>\n",
              "    </tr>\n",
              "    <tr>\n",
              "      <th>3</th>\n",
              "      <td>24491034</td>\n",
              "      <td>4</td>\n",
              "      <td>METHODS</td>\n",
              "      <td>The intervention group will participate in the...</td>\n",
              "      <td>This study is designed as a randomised control...</td>\n",
              "      <td>This paper describes the design and evaluation...</td>\n",
              "    </tr>\n",
              "    <tr>\n",
              "      <th>4</th>\n",
              "      <td>24491034</td>\n",
              "      <td>5</td>\n",
              "      <td>METHODS</td>\n",
              "      <td>The program is based on self-efficacy theory a...</td>\n",
              "      <td>The intervention group will participate in the...</td>\n",
              "      <td>This study is designed as a randomised control...</td>\n",
              "    </tr>\n",
              "  </tbody>\n",
              "</table>\n",
              "</div>\n",
              "    <div class=\"colab-df-buttons\">\n",
              "\n",
              "  <div class=\"colab-df-container\">\n",
              "    <button class=\"colab-df-convert\" onclick=\"convertToInteractive('df-1386cbb6-0bc0-4589-bda1-b6576168b0df')\"\n",
              "            title=\"Convert this dataframe to an interactive table.\"\n",
              "            style=\"display:none;\">\n",
              "\n",
              "  <svg xmlns=\"http://www.w3.org/2000/svg\" height=\"24px\" viewBox=\"0 -960 960 960\">\n",
              "    <path d=\"M120-120v-720h720v720H120Zm60-500h600v-160H180v160Zm220 220h160v-160H400v160Zm0 220h160v-160H400v160ZM180-400h160v-160H180v160Zm440 0h160v-160H620v160ZM180-180h160v-160H180v160Zm440 0h160v-160H620v160Z\"/>\n",
              "  </svg>\n",
              "    </button>\n",
              "\n",
              "  <style>\n",
              "    .colab-df-container {\n",
              "      display:flex;\n",
              "      gap: 12px;\n",
              "    }\n",
              "\n",
              "    .colab-df-convert {\n",
              "      background-color: #E8F0FE;\n",
              "      border: none;\n",
              "      border-radius: 50%;\n",
              "      cursor: pointer;\n",
              "      display: none;\n",
              "      fill: #1967D2;\n",
              "      height: 32px;\n",
              "      padding: 0 0 0 0;\n",
              "      width: 32px;\n",
              "    }\n",
              "\n",
              "    .colab-df-convert:hover {\n",
              "      background-color: #E2EBFA;\n",
              "      box-shadow: 0px 1px 2px rgba(60, 64, 67, 0.3), 0px 1px 3px 1px rgba(60, 64, 67, 0.15);\n",
              "      fill: #174EA6;\n",
              "    }\n",
              "\n",
              "    .colab-df-buttons div {\n",
              "      margin-bottom: 4px;\n",
              "    }\n",
              "\n",
              "    [theme=dark] .colab-df-convert {\n",
              "      background-color: #3B4455;\n",
              "      fill: #D2E3FC;\n",
              "    }\n",
              "\n",
              "    [theme=dark] .colab-df-convert:hover {\n",
              "      background-color: #434B5C;\n",
              "      box-shadow: 0px 1px 3px 1px rgba(0, 0, 0, 0.15);\n",
              "      filter: drop-shadow(0px 1px 2px rgba(0, 0, 0, 0.3));\n",
              "      fill: #FFFFFF;\n",
              "    }\n",
              "  </style>\n",
              "\n",
              "    <script>\n",
              "      const buttonEl =\n",
              "        document.querySelector('#df-1386cbb6-0bc0-4589-bda1-b6576168b0df button.colab-df-convert');\n",
              "      buttonEl.style.display =\n",
              "        google.colab.kernel.accessAllowed ? 'block' : 'none';\n",
              "\n",
              "      async function convertToInteractive(key) {\n",
              "        const element = document.querySelector('#df-1386cbb6-0bc0-4589-bda1-b6576168b0df');\n",
              "        const dataTable =\n",
              "          await google.colab.kernel.invokeFunction('convertToInteractive',\n",
              "                                                    [key], {});\n",
              "        if (!dataTable) return;\n",
              "\n",
              "        const docLinkHtml = 'Like what you see? Visit the ' +\n",
              "          '<a target=\"_blank\" href=https://colab.research.google.com/notebooks/data_table.ipynb>data table notebook</a>'\n",
              "          + ' to learn more about interactive tables.';\n",
              "        element.innerHTML = '';\n",
              "        dataTable['output_type'] = 'display_data';\n",
              "        await google.colab.output.renderOutput(dataTable, element);\n",
              "        const docLink = document.createElement('div');\n",
              "        docLink.innerHTML = docLinkHtml;\n",
              "        element.appendChild(docLink);\n",
              "      }\n",
              "    </script>\n",
              "  </div>\n",
              "\n",
              "\n",
              "<div id=\"df-e97bb173-6169-43c8-a3ba-6d42b7452167\">\n",
              "  <button class=\"colab-df-quickchart\" onclick=\"quickchart('df-e97bb173-6169-43c8-a3ba-6d42b7452167')\"\n",
              "            title=\"Suggest charts\"\n",
              "            style=\"display:none;\">\n",
              "\n",
              "<svg xmlns=\"http://www.w3.org/2000/svg\" height=\"24px\"viewBox=\"0 0 24 24\"\n",
              "     width=\"24px\">\n",
              "    <g>\n",
              "        <path d=\"M19 3H5c-1.1 0-2 .9-2 2v14c0 1.1.9 2 2 2h14c1.1 0 2-.9 2-2V5c0-1.1-.9-2-2-2zM9 17H7v-7h2v7zm4 0h-2V7h2v10zm4 0h-2v-4h2v4z\"/>\n",
              "    </g>\n",
              "</svg>\n",
              "  </button>\n",
              "\n",
              "<style>\n",
              "  .colab-df-quickchart {\n",
              "      --bg-color: #E8F0FE;\n",
              "      --fill-color: #1967D2;\n",
              "      --hover-bg-color: #E2EBFA;\n",
              "      --hover-fill-color: #174EA6;\n",
              "      --disabled-fill-color: #AAA;\n",
              "      --disabled-bg-color: #DDD;\n",
              "  }\n",
              "\n",
              "  [theme=dark] .colab-df-quickchart {\n",
              "      --bg-color: #3B4455;\n",
              "      --fill-color: #D2E3FC;\n",
              "      --hover-bg-color: #434B5C;\n",
              "      --hover-fill-color: #FFFFFF;\n",
              "      --disabled-bg-color: #3B4455;\n",
              "      --disabled-fill-color: #666;\n",
              "  }\n",
              "\n",
              "  .colab-df-quickchart {\n",
              "    background-color: var(--bg-color);\n",
              "    border: none;\n",
              "    border-radius: 50%;\n",
              "    cursor: pointer;\n",
              "    display: none;\n",
              "    fill: var(--fill-color);\n",
              "    height: 32px;\n",
              "    padding: 0;\n",
              "    width: 32px;\n",
              "  }\n",
              "\n",
              "  .colab-df-quickchart:hover {\n",
              "    background-color: var(--hover-bg-color);\n",
              "    box-shadow: 0 1px 2px rgba(60, 64, 67, 0.3), 0 1px 3px 1px rgba(60, 64, 67, 0.15);\n",
              "    fill: var(--button-hover-fill-color);\n",
              "  }\n",
              "\n",
              "  .colab-df-quickchart-complete:disabled,\n",
              "  .colab-df-quickchart-complete:disabled:hover {\n",
              "    background-color: var(--disabled-bg-color);\n",
              "    fill: var(--disabled-fill-color);\n",
              "    box-shadow: none;\n",
              "  }\n",
              "\n",
              "  .colab-df-spinner {\n",
              "    border: 2px solid var(--fill-color);\n",
              "    border-color: transparent;\n",
              "    border-bottom-color: var(--fill-color);\n",
              "    animation:\n",
              "      spin 1s steps(1) infinite;\n",
              "  }\n",
              "\n",
              "  @keyframes spin {\n",
              "    0% {\n",
              "      border-color: transparent;\n",
              "      border-bottom-color: var(--fill-color);\n",
              "      border-left-color: var(--fill-color);\n",
              "    }\n",
              "    20% {\n",
              "      border-color: transparent;\n",
              "      border-left-color: var(--fill-color);\n",
              "      border-top-color: var(--fill-color);\n",
              "    }\n",
              "    30% {\n",
              "      border-color: transparent;\n",
              "      border-left-color: var(--fill-color);\n",
              "      border-top-color: var(--fill-color);\n",
              "      border-right-color: var(--fill-color);\n",
              "    }\n",
              "    40% {\n",
              "      border-color: transparent;\n",
              "      border-right-color: var(--fill-color);\n",
              "      border-top-color: var(--fill-color);\n",
              "    }\n",
              "    60% {\n",
              "      border-color: transparent;\n",
              "      border-right-color: var(--fill-color);\n",
              "    }\n",
              "    80% {\n",
              "      border-color: transparent;\n",
              "      border-right-color: var(--fill-color);\n",
              "      border-bottom-color: var(--fill-color);\n",
              "    }\n",
              "    90% {\n",
              "      border-color: transparent;\n",
              "      border-bottom-color: var(--fill-color);\n",
              "    }\n",
              "  }\n",
              "</style>\n",
              "\n",
              "  <script>\n",
              "    async function quickchart(key) {\n",
              "      const quickchartButtonEl =\n",
              "        document.querySelector('#' + key + ' button');\n",
              "      quickchartButtonEl.disabled = true;  // To prevent multiple clicks.\n",
              "      quickchartButtonEl.classList.add('colab-df-spinner');\n",
              "      try {\n",
              "        const charts = await google.colab.kernel.invokeFunction(\n",
              "            'suggestCharts', [key], {});\n",
              "      } catch (error) {\n",
              "        console.error('Error during call to suggestCharts:', error);\n",
              "      }\n",
              "      quickchartButtonEl.classList.remove('colab-df-spinner');\n",
              "      quickchartButtonEl.classList.add('colab-df-quickchart-complete');\n",
              "    }\n",
              "    (() => {\n",
              "      let quickchartButtonEl =\n",
              "        document.querySelector('#df-e97bb173-6169-43c8-a3ba-6d42b7452167 button');\n",
              "      quickchartButtonEl.style.display =\n",
              "        google.colab.kernel.accessAllowed ? 'block' : 'none';\n",
              "    })();\n",
              "  </script>\n",
              "</div>\n",
              "\n",
              "    </div>\n",
              "  </div>\n"
            ]
          },
          "metadata": {},
          "execution_count": 18
        }
      ],
      "source": [
        "train_200k.head()"
      ]
    },
    {
      "cell_type": "code",
      "execution_count": null,
      "metadata": {
        "colab": {
          "base_uri": "https://localhost:8080/"
        },
        "id": "fROU40EtiB36",
        "outputId": "d2c30526-f7ac-4e59-8e2f-ca8db2abb517"
      },
      "outputs": [
        {
          "output_type": "execute_result",
          "data": {
            "text/plain": [
              "array(['BACKGROUND', 'METHODS', 'CONCLUSIONS', 'RESULTS', 'OBJECTIVE'],\n",
              "      dtype=object)"
            ]
          },
          "metadata": {},
          "execution_count": 19
        }
      ],
      "source": [
        "train_200k['tag'].unique()"
      ]
    },
    {
      "cell_type": "markdown",
      "metadata": {
        "id": "K7YJzHnXS_QO"
      },
      "source": [
        "# The Model"
      ]
    },
    {
      "cell_type": "code",
      "execution_count": null,
      "metadata": {
        "id": "wCrX7KkXUHeX"
      },
      "outputs": [],
      "source": [
        "sentences = pd.concat([train_20k['text'], dev_20k['text']])"
      ]
    },
    {
      "cell_type": "code",
      "execution_count": null,
      "metadata": {
        "id": "JRDJW0OSTa3k"
      },
      "outputs": [],
      "source": [
        "# Tokenization Layer\n",
        "max_tokens = 10000\n",
        "max_length = 15\n",
        "\n",
        "Vectorizer = TextVectorization(max_tokens = max_tokens,\n",
        "                               output_sequence_length = max_length)\n",
        "\n",
        "Vectorizer.adapt(sentences)"
      ]
    },
    {
      "cell_type": "code",
      "execution_count": null,
      "metadata": {
        "id": "Syrm5WpfTa1E"
      },
      "outputs": [],
      "source": [
        "Embedding_layer = Embedding(input_dim = max_tokens,\n",
        "                            output_dim = 128,\n",
        "                            input_length = max_length)"
      ]
    },
    {
      "cell_type": "markdown",
      "metadata": {
        "id": "PTQJFuIhUpni"
      },
      "source": [
        "## Text to Vectorization layer\n",
        "\n",
        "This layer takes in the sentences and create and generates a vector representation of it."
      ]
    },
    {
      "cell_type": "code",
      "execution_count": null,
      "metadata": {
        "colab": {
          "base_uri": "https://localhost:8080/"
        },
        "id": "qM4tDWhPUibT",
        "outputId": "2ce7925b-5e0f-43cc-941f-13b01f361e06"
      },
      "outputs": [
        {
          "output_type": "stream",
          "name": "stdout",
          "text": [
            "(None, 1)\n",
            "(None, 15)\n",
            "(None, 15, 128)\n",
            "(None, 100)\n",
            "(None, 10)\n"
          ]
        }
      ],
      "source": [
        "## Define the S2V modedel\n",
        "input_layer = Input(shape = (1,), dtype = 'string')\n",
        "print(input_layer.shape)\n",
        "Vectorizer_layer = Vectorizer(input_layer)\n",
        "print(Vectorizer_layer.shape)\n",
        "embedding_output_layer = Embedding_layer(Vectorizer_layer)\n",
        "print(embedding_output_layer.shape)\n",
        "lstm_layer = LSTM(100)(embedding_output_layer)\n",
        "print(lstm_layer.shape)\n",
        "output_layer = Dense(10, activation='relu')(lstm_layer)\n",
        "print(output_layer.shape)\n",
        "text_2_Vector_model = tf.keras.Model(input_layer, output_layer)"
      ]
    },
    {
      "cell_type": "code",
      "execution_count": null,
      "metadata": {
        "colab": {
          "base_uri": "https://localhost:8080/"
        },
        "id": "fIlleQBTVreh",
        "outputId": "48a5b89f-7b18-46f5-9f9d-d3307f8b145e"
      },
      "outputs": [
        {
          "output_type": "stream",
          "name": "stdout",
          "text": [
            "Model: \"model\"\n",
            "_________________________________________________________________\n",
            " Layer (type)                Output Shape              Param #   \n",
            "=================================================================\n",
            " input_1 (InputLayer)        [(None, 1)]               0         \n",
            "                                                                 \n",
            " text_vectorization (TextVe  (None, 15)                0         \n",
            " ctorization)                                                    \n",
            "                                                                 \n",
            " embedding (Embedding)       (None, 15, 128)           1280000   \n",
            "                                                                 \n",
            " lstm (LSTM)                 (None, 100)               91600     \n",
            "                                                                 \n",
            " dense (Dense)               (None, 10)                1010      \n",
            "                                                                 \n",
            "=================================================================\n",
            "Total params: 1372610 (5.24 MB)\n",
            "Trainable params: 1372610 (5.24 MB)\n",
            "Non-trainable params: 0 (0.00 Byte)\n",
            "_________________________________________________________________\n"
          ]
        }
      ],
      "source": [
        "text_2_Vector_model.summary()"
      ]
    },
    {
      "cell_type": "code",
      "execution_count": null,
      "metadata": {
        "colab": {
          "base_uri": "https://localhost:8080/",
          "height": 466
        },
        "id": "DXxkMmqMVtXI",
        "outputId": "012a3be5-13d0-4361-9bc7-aded321f881f"
      },
      "outputs": [
        {
          "output_type": "execute_result",
          "data": {
            "image/png": "[encoded data removed]",
            "text/plain": [
              "<IPython.core.display.Image object>"
            ]
          },
          "metadata": {},
          "execution_count": 25
        }
      ],
      "source": [
        "plot_model(text_2_Vector_model)"
      ]
    },
    {
      "cell_type": "markdown",
      "metadata": {
        "id": "sj5zmOwuVIR8"
      },
      "source": [
        "## Layer for processing the current sequences"
      ]
    },
    {
      "cell_type": "code",
      "execution_count": null,
      "metadata": {
        "colab": {
          "base_uri": "https://localhost:8080/"
        },
        "id": "5Jkj7iabVG2m",
        "outputId": "a6f4ac03-8430-4e5b-f679-1976d495d9e9"
      },
      "outputs": [
        {
          "output_type": "stream",
          "name": "stdout",
          "text": [
            "(None, 10)\n"
          ]
        }
      ],
      "source": [
        "# The Processing the current text\n",
        "input_current_layer = Input(shape = (1,), dtype = 'string')\n",
        "text_2_Vector_layer = text_2_Vector_model(input_current_layer)\n",
        "output_current_layer = Dense(10, activation='relu')(text_2_Vector_layer)\n",
        "current_model = tf.keras.Model(input_current_layer, output_current_layer)\n",
        "print(output_current_layer.shape)"
      ]
    },
    {
      "cell_type": "code",
      "execution_count": null,
      "metadata": {
        "colab": {
          "base_uri": "https://localhost:8080/"
        },
        "id": "HRlCe0AvVo88",
        "outputId": "232c5912-4271-41c3-ffb6-dbc8c7c03d11"
      },
      "outputs": [
        {
          "output_type": "stream",
          "name": "stdout",
          "text": [
            "Model: \"model_1\"\n",
            "_________________________________________________________________\n",
            " Layer (type)                Output Shape              Param #   \n",
            "=================================================================\n",
            " input_2 (InputLayer)        [(None, 1)]               0         \n",
            "                                                                 \n",
            " model (Functional)          (None, 10)                1372610   \n",
            "                                                                 \n",
            " dense_1 (Dense)             (None, 10)                110       \n",
            "                                                                 \n",
            "=================================================================\n",
            "Total params: 1372720 (5.24 MB)\n",
            "Trainable params: 1372720 (5.24 MB)\n",
            "Non-trainable params: 0 (0.00 Byte)\n",
            "_________________________________________________________________\n"
          ]
        }
      ],
      "source": [
        "current_model.summary()"
      ]
    },
    {
      "cell_type": "code",
      "execution_count": null,
      "metadata": {
        "colab": {
          "base_uri": "https://localhost:8080/",
          "height": 272
        },
        "id": "q0ZaCrCDVxAO",
        "outputId": "6cb0557a-1e2c-46f7-e8ac-891247e2a309"
      },
      "outputs": [
        {
          "output_type": "execute_result",
          "data": {
            "image/png": "[encoded data removed]",
            "text/plain": [
              "<IPython.core.display.Image object>"
            ]
          },
          "metadata": {},
          "execution_count": 28
        }
      ],
      "source": [
        "plot_model(current_model)"
      ]
    },
    {
      "cell_type": "markdown",
      "metadata": {
        "id": "J20upWdUV-65"
      },
      "source": [
        "## Layer for processing the first previous sequences"
      ]
    },
    {
      "cell_type": "code",
      "execution_count": null,
      "metadata": {
        "colab": {
          "base_uri": "https://localhost:8080/"
        },
        "id": "rzjizFiZV-g1",
        "outputId": "4720d5b7-9189-4f2c-ec1b-bef03cc5c282"
      },
      "outputs": [
        {
          "output_type": "stream",
          "name": "stdout",
          "text": [
            "(None, 10)\n"
          ]
        }
      ],
      "source": [
        "## Define input for preceding layer 1\n",
        "input_preceeding_layer_1 = Input(shape = (1,), dtype = 'string')\n",
        "text_2_Vector_preceding_layer_1 = text_2_Vector_model(input_preceeding_layer_1)\n",
        "output_preceeding_layer_1 = Dense(10, activation='sigmoid')(text_2_Vector_preceding_layer_1)\n",
        "preceeding_model_1 = tf.keras.Model(input_preceeding_layer_1, output_preceeding_layer_1)\n",
        "print(output_preceeding_layer_1.shape)"
      ]
    },
    {
      "cell_type": "code",
      "execution_count": null,
      "metadata": {
        "colab": {
          "base_uri": "https://localhost:8080/"
        },
        "id": "eiawgIVCWGTg",
        "outputId": "c01ba947-92d9-4598-89ba-4c9da6db9ba5"
      },
      "outputs": [
        {
          "output_type": "stream",
          "name": "stdout",
          "text": [
            "Model: \"model_2\"\n",
            "_________________________________________________________________\n",
            " Layer (type)                Output Shape              Param #   \n",
            "=================================================================\n",
            " input_3 (InputLayer)        [(None, 1)]               0         \n",
            "                                                                 \n",
            " model (Functional)          (None, 10)                1372610   \n",
            "                                                                 \n",
            " dense_2 (Dense)             (None, 10)                110       \n",
            "                                                                 \n",
            "=================================================================\n",
            "Total params: 1372720 (5.24 MB)\n",
            "Trainable params: 1372720 (5.24 MB)\n",
            "Non-trainable params: 0 (0.00 Byte)\n",
            "_________________________________________________________________\n"
          ]
        }
      ],
      "source": [
        "preceeding_model_1.summary()"
      ]
    },
    {
      "cell_type": "code",
      "execution_count": null,
      "metadata": {
        "colab": {
          "base_uri": "https://localhost:8080/",
          "height": 272
        },
        "id": "zLrFK9KXWMjT",
        "outputId": "44e49f23-fc15-4dbc-8e7d-13957454e23e"
      },
      "outputs": [
        {
          "output_type": "execute_result",
          "data": {
            "image/png": "[encoded data removed]",
            "text/plain": [
              "<IPython.core.display.Image object>"
            ]
          },
          "metadata": {},
          "execution_count": 31
        }
      ],
      "source": [
        "plot_model(preceeding_model_1)"
      ]
    },
    {
      "cell_type": "markdown",
      "metadata": {
        "id": "Dpu1SvF5WTR2"
      },
      "source": [
        "## Layer for processing the second previous sequences"
      ]
    },
    {
      "cell_type": "code",
      "execution_count": null,
      "metadata": {
        "colab": {
          "base_uri": "https://localhost:8080/"
        },
        "id": "cjHa7nbTWPFA",
        "outputId": "5cee899f-307e-49c5-9ed4-080b1245f556"
      },
      "outputs": [
        {
          "output_type": "stream",
          "name": "stdout",
          "text": [
            "(None, 10)\n"
          ]
        }
      ],
      "source": [
        "## Define input for preceding layer 2\n",
        "input_preceeding_layer_2 = Input(shape = (1,), dtype = 'string')\n",
        "text_2_Vector_preceding_layer_2 = text_2_Vector_model(input_preceeding_layer_2)\n",
        "output_preceeding_layer_2 = Dense(10, activation='sigmoid')(text_2_Vector_preceding_layer_2)\n",
        "print(output_preceeding_layer_2.shape)\n",
        "preceeding_model_2 = tf.keras.Model(input_preceeding_layer_2, output_preceeding_layer_2)"
      ]
    },
    {
      "cell_type": "code",
      "execution_count": null,
      "metadata": {
        "colab": {
          "base_uri": "https://localhost:8080/"
        },
        "id": "mK-RRREIWhvX",
        "outputId": "0515589d-181e-4d9c-edff-6a53f14bdf69"
      },
      "outputs": [
        {
          "output_type": "stream",
          "name": "stdout",
          "text": [
            "Model: \"model_3\"\n",
            "_________________________________________________________________\n",
            " Layer (type)                Output Shape              Param #   \n",
            "=================================================================\n",
            " input_4 (InputLayer)        [(None, 1)]               0         \n",
            "                                                                 \n",
            " model (Functional)          (None, 10)                1372610   \n",
            "                                                                 \n",
            " dense_3 (Dense)             (None, 10)                110       \n",
            "                                                                 \n",
            "=================================================================\n",
            "Total params: 1372720 (5.24 MB)\n",
            "Trainable params: 1372720 (5.24 MB)\n",
            "Non-trainable params: 0 (0.00 Byte)\n",
            "_________________________________________________________________\n"
          ]
        }
      ],
      "source": [
        "preceeding_model_2.summary()"
      ]
    },
    {
      "cell_type": "code",
      "execution_count": null,
      "metadata": {
        "colab": {
          "base_uri": "https://localhost:8080/",
          "height": 272
        },
        "id": "pU7Uel6CW0Dt",
        "outputId": "54d3696f-911c-42ab-8f77-5949c143822d"
      },
      "outputs": [
        {
          "output_type": "execute_result",
          "data": {
            "image/png": "[encoded data removed]",
            "text/plain": [
              "<IPython.core.display.Image object>"
            ]
          },
          "metadata": {},
          "execution_count": 34
        }
      ],
      "source": [
        "plot_model(preceeding_model_2)"
      ]
    },
    {
      "cell_type": "markdown",
      "metadata": {
        "id": "wtXrZXmbXDI4"
      },
      "source": [
        "## Blend all into a layer"
      ]
    },
    {
      "cell_type": "code",
      "execution_count": null,
      "metadata": {
        "colab": {
          "base_uri": "https://localhost:8080/"
        },
        "id": "KiDPhE86W76i",
        "outputId": "5f51842d-3c5b-4b5b-c8d9-114a99454e6a"
      },
      "outputs": [
        {
          "output_type": "stream",
          "name": "stdout",
          "text": [
            "(None, 5)\n"
          ]
        }
      ],
      "source": [
        "# Concatentate\n",
        "concatenate_layer = tf.keras.layers.Concatenate(name = \"Concatenate_Layer\")([current_model.output, preceeding_model_1.output, preceeding_model_2.output])\n",
        "\n",
        "# Final layer\n",
        "x = tf.keras.layers.Dropout(0.2)(concatenate_layer)\n",
        "x = tf.keras.layers.Dense(64, activation = 'relu')(x)\n",
        "x = tf.keras.layers.Dropout(0.2)(x)\n",
        "Output = tf.keras.layers.Dense(5, activation = 'softmax', name = \"output\")(x)\n",
        "print(Output.shape)\n",
        "Feed_forward_Model = tf.keras.Model([current_model.input, preceeding_model_1.input, preceeding_model_2.input], Output)"
      ]
    },
    {
      "cell_type": "code",
      "execution_count": null,
      "metadata": {
        "colab": {
          "base_uri": "https://localhost:8080/"
        },
        "id": "UXUt5t58XLg2",
        "outputId": "5259ac7e-9084-4682-bdf0-ac3a4feaaf9b"
      },
      "outputs": [
        {
          "output_type": "stream",
          "name": "stdout",
          "text": [
            "Model: \"model_4\"\n",
            "__________________________________________________________________________________________________\n",
            " Layer (type)                Output Shape                 Param #   Connected to                  \n",
            "==================================================================================================\n",
            " input_2 (InputLayer)        [(None, 1)]                  0         []                            \n",
            "                                                                                                  \n",
            " input_3 (InputLayer)        [(None, 1)]                  0         []                            \n",
            "                                                                                                  \n",
            " input_4 (InputLayer)        [(None, 1)]                  0         []                            \n",
            "                                                                                                  \n",
            " model (Functional)          (None, 10)                   1372610   ['input_2[0][0]',             \n",
            "                                                                     'input_3[0][0]',             \n",
            "                                                                     'input_4[0][0]']             \n",
            "                                                                                                  \n",
            " dense_1 (Dense)             (None, 10)                   110       ['model[0][0]']               \n",
            "                                                                                                  \n",
            " dense_2 (Dense)             (None, 10)                   110       ['model[1][0]']               \n",
            "                                                                                                  \n",
            " dense_3 (Dense)             (None, 10)                   110       ['model[2][0]']               \n",
            "                                                                                                  \n",
            " Concatenate_Layer (Concate  (None, 30)                   0         ['dense_1[0][0]',             \n",
            " nate)                                                               'dense_2[0][0]',             \n",
            "                                                                     'dense_3[0][0]']             \n",
            "                                                                                                  \n",
            " dropout (Dropout)           (None, 30)                   0         ['Concatenate_Layer[0][0]']   \n",
            "                                                                                                  \n",
            " dense_4 (Dense)             (None, 64)                   1984      ['dropout[0][0]']             \n",
            "                                                                                                  \n",
            " dropout_1 (Dropout)         (None, 64)                   0         ['dense_4[0][0]']             \n",
            "                                                                                                  \n",
            " output (Dense)              (None, 5)                    325       ['dropout_1[0][0]']           \n",
            "                                                                                                  \n",
            "==================================================================================================\n",
            "Total params: 1375249 (5.25 MB)\n",
            "Trainable params: 1375249 (5.25 MB)\n",
            "Non-trainable params: 0 (0.00 Byte)\n",
            "__________________________________________________________________________________________________\n"
          ]
        }
      ],
      "source": [
        "Feed_forward_Model.summary()"
      ]
    },
    {
      "cell_type": "code",
      "execution_count": null,
      "metadata": {
        "colab": {
          "base_uri": "https://localhost:8080/",
          "height": 758
        },
        "id": "16iPi-iuXNDv",
        "outputId": "6cccc181-7808-4e64-c701-44b00e1cb63d"
      },
      "outputs": [
        {
          "output_type": "execute_result",
          "data": {
            "image/png": "[encoded data removed]",
            "text/plain": [
              "<IPython.core.display.Image object>"
            ]
          },
          "metadata": {},
          "execution_count": 37
        }
      ],
      "source": [
        "# Plot hybrid token and character model\n",
        "plot_model(Feed_forward_Model)"
      ]
    },
    {
      "cell_type": "markdown",
      "metadata": {
        "id": "B-vXlvmjYcds"
      },
      "source": [
        "# The Dataset\n",
        "\n",
        "Let make dataset in the format that can be used by the model"
      ]
    },
    {
      "cell_type": "code",
      "execution_count": null,
      "metadata": {
        "colab": {
          "base_uri": "https://localhost:8080/",
          "height": 206
        },
        "id": "0YS_xnbbY-mv",
        "outputId": "1e18baf6-db49-425e-8537-f566a7aab4b0"
      },
      "outputs": [
        {
          "output_type": "execute_result",
          "data": {
            "text/plain": [
              "         id  index        tag  \\\n",
              "0  24293578      1  OBJECTIVE   \n",
              "1  24293578      2    METHODS   \n",
              "2  24293578      3    METHODS   \n",
              "3  24293578      4    METHODS   \n",
              "4  24293578      5    METHODS   \n",
              "\n",
              "                                                text  \\\n",
              "0  To investigate the efficacy of @ weeks of dail...   \n",
              "1  A total of @ patients with primary knee OA wer...   \n",
              "2  Outcome measures included pain reduction and i...   \n",
              "3  Pain was assessed using the visual analog pain...   \n",
              "4  Secondary outcome measures included the Wester...   \n",
              "\n",
              "                                              prev_1  \\\n",
              "0                                                      \n",
              "1                                                      \n",
              "2  A total of @ patients with primary knee OA wer...   \n",
              "3  Outcome measures included pain reduction and i...   \n",
              "4  Pain was assessed using the visual analog pain...   \n",
              "\n",
              "                                              prev_2  \n",
              "0                                                     \n",
              "1                                                     \n",
              "2  To investigate the efficacy of @ weeks of dail...  \n",
              "3  A total of @ patients with primary knee OA wer...  \n",
              "4  Outcome measures included pain reduction and i...  "
            ],
            "text/html": [
              "\n",
              "  <div id=\"df-1cd5871a-de99-4a0b-bb84-2e6fe3f41fd7\" class=\"colab-df-container\">\n",
              "    <div>\n",
              "<style scoped>\n",
              "    .dataframe tbody tr th:only-of-type {\n",
              "        vertical-align: middle;\n",
              "    }\n",
              "\n",
              "    .dataframe tbody tr th {\n",
              "        vertical-align: top;\n",
              "    }\n",
              "\n",
              "    .dataframe thead th {\n",
              "        text-align: right;\n",
              "    }\n",
              "</style>\n",
              "<table border=\"1\" class=\"dataframe\">\n",
              "  <thead>\n",
              "    <tr style=\"text-align: right;\">\n",
              "      <th></th>\n",
              "      <th>id</th>\n",
              "      <th>index</th>\n",
              "      <th>tag</th>\n",
              "      <th>text</th>\n",
              "      <th>prev_1</th>\n",
              "      <th>prev_2</th>\n",
              "    </tr>\n",
              "  </thead>\n",
              "  <tbody>\n",
              "    <tr>\n",
              "      <th>0</th>\n",
              "      <td>24293578</td>\n",
              "      <td>1</td>\n",
              "      <td>OBJECTIVE</td>\n",
              "      <td>To investigate the efficacy of @ weeks of dail...</td>\n",
              "      <td></td>\n",
              "      <td></td>\n",
              "    </tr>\n",
              "    <tr>\n",
              "      <th>1</th>\n",
              "      <td>24293578</td>\n",
              "      <td>2</td>\n",
              "      <td>METHODS</td>\n",
              "      <td>A total of @ patients with primary knee OA wer...</td>\n",
              "      <td></td>\n",
              "      <td></td>\n",
              "    </tr>\n",
              "    <tr>\n",
              "      <th>2</th>\n",
              "      <td>24293578</td>\n",
              "      <td>3</td>\n",
              "      <td>METHODS</td>\n",
              "      <td>Outcome measures included pain reduction and i...</td>\n",
              "      <td>A total of @ patients with primary knee OA wer...</td>\n",
              "      <td>To investigate the efficacy of @ weeks of dail...</td>\n",
              "    </tr>\n",
              "    <tr>\n",
              "      <th>3</th>\n",
              "      <td>24293578</td>\n",
              "      <td>4</td>\n",
              "      <td>METHODS</td>\n",
              "      <td>Pain was assessed using the visual analog pain...</td>\n",
              "      <td>Outcome measures included pain reduction and i...</td>\n",
              "      <td>A total of @ patients with primary knee OA wer...</td>\n",
              "    </tr>\n",
              "    <tr>\n",
              "      <th>4</th>\n",
              "      <td>24293578</td>\n",
              "      <td>5</td>\n",
              "      <td>METHODS</td>\n",
              "      <td>Secondary outcome measures included the Wester...</td>\n",
              "      <td>Pain was assessed using the visual analog pain...</td>\n",
              "      <td>Outcome measures included pain reduction and i...</td>\n",
              "    </tr>\n",
              "  </tbody>\n",
              "</table>\n",
              "</div>\n",
              "    <div class=\"colab-df-buttons\">\n",
              "\n",
              "  <div class=\"colab-df-container\">\n",
              "    <button class=\"colab-df-convert\" onclick=\"convertToInteractive('df-1cd5871a-de99-4a0b-bb84-2e6fe3f41fd7')\"\n",
              "            title=\"Convert this dataframe to an interactive table.\"\n",
              "            style=\"display:none;\">\n",
              "\n",
              "  <svg xmlns=\"http://www.w3.org/2000/svg\" height=\"24px\" viewBox=\"0 -960 960 960\">\n",
              "    <path d=\"M120-120v-720h720v720H120Zm60-500h600v-160H180v160Zm220 220h160v-160H400v160Zm0 220h160v-160H400v160ZM180-400h160v-160H180v160Zm440 0h160v-160H620v160ZM180-180h160v-160H180v160Zm440 0h160v-160H620v160Z\"/>\n",
              "  </svg>\n",
              "    </button>\n",
              "\n",
              "  <style>\n",
              "    .colab-df-container {\n",
              "      display:flex;\n",
              "      gap: 12px;\n",
              "    }\n",
              "\n",
              "    .colab-df-convert {\n",
              "      background-color: #E8F0FE;\n",
              "      border: none;\n",
              "      border-radius: 50%;\n",
              "      cursor: pointer;\n",
              "      display: none;\n",
              "      fill: #1967D2;\n",
              "      height: 32px;\n",
              "      padding: 0 0 0 0;\n",
              "      width: 32px;\n",
              "    }\n",
              "\n",
              "    .colab-df-convert:hover {\n",
              "      background-color: #E2EBFA;\n",
              "      box-shadow: 0px 1px 2px rgba(60, 64, 67, 0.3), 0px 1px 3px 1px rgba(60, 64, 67, 0.15);\n",
              "      fill: #174EA6;\n",
              "    }\n",
              "\n",
              "    .colab-df-buttons div {\n",
              "      margin-bottom: 4px;\n",
              "    }\n",
              "\n",
              "    [theme=dark] .colab-df-convert {\n",
              "      background-color: #3B4455;\n",
              "      fill: #D2E3FC;\n",
              "    }\n",
              "\n",
              "    [theme=dark] .colab-df-convert:hover {\n",
              "      background-color: #434B5C;\n",
              "      box-shadow: 0px 1px 3px 1px rgba(0, 0, 0, 0.15);\n",
              "      filter: drop-shadow(0px 1px 2px rgba(0, 0, 0, 0.3));\n",
              "      fill: #FFFFFF;\n",
              "    }\n",
              "  </style>\n",
              "\n",
              "    <script>\n",
              "      const buttonEl =\n",
              "        document.querySelector('#df-1cd5871a-de99-4a0b-bb84-2e6fe3f41fd7 button.colab-df-convert');\n",
              "      buttonEl.style.display =\n",
              "        google.colab.kernel.accessAllowed ? 'block' : 'none';\n",
              "\n",
              "      async function convertToInteractive(key) {\n",
              "        const element = document.querySelector('#df-1cd5871a-de99-4a0b-bb84-2e6fe3f41fd7');\n",
              "        const dataTable =\n",
              "          await google.colab.kernel.invokeFunction('convertToInteractive',\n",
              "                                                    [key], {});\n",
              "        if (!dataTable) return;\n",
              "\n",
              "        const docLinkHtml = 'Like what you see? Visit the ' +\n",
              "          '<a target=\"_blank\" href=https://colab.research.google.com/notebooks/data_table.ipynb>data table notebook</a>'\n",
              "          + ' to learn more about interactive tables.';\n",
              "        element.innerHTML = '';\n",
              "        dataTable['output_type'] = 'display_data';\n",
              "        await google.colab.output.renderOutput(dataTable, element);\n",
              "        const docLink = document.createElement('div');\n",
              "        docLink.innerHTML = docLinkHtml;\n",
              "        element.appendChild(docLink);\n",
              "      }\n",
              "    </script>\n",
              "  </div>\n",
              "\n",
              "\n",
              "<div id=\"df-f5e1adb9-4af5-4235-90fa-37224bd804ff\">\n",
              "  <button class=\"colab-df-quickchart\" onclick=\"quickchart('df-f5e1adb9-4af5-4235-90fa-37224bd804ff')\"\n",
              "            title=\"Suggest charts\"\n",
              "            style=\"display:none;\">\n",
              "\n",
              "<svg xmlns=\"http://www.w3.org/2000/svg\" height=\"24px\"viewBox=\"0 0 24 24\"\n",
              "     width=\"24px\">\n",
              "    <g>\n",
              "        <path d=\"M19 3H5c-1.1 0-2 .9-2 2v14c0 1.1.9 2 2 2h14c1.1 0 2-.9 2-2V5c0-1.1-.9-2-2-2zM9 17H7v-7h2v7zm4 0h-2V7h2v10zm4 0h-2v-4h2v4z\"/>\n",
              "    </g>\n",
              "</svg>\n",
              "  </button>\n",
              "\n",
              "<style>\n",
              "  .colab-df-quickchart {\n",
              "      --bg-color: #E8F0FE;\n",
              "      --fill-color: #1967D2;\n",
              "      --hover-bg-color: #E2EBFA;\n",
              "      --hover-fill-color: #174EA6;\n",
              "      --disabled-fill-color: #AAA;\n",
              "      --disabled-bg-color: #DDD;\n",
              "  }\n",
              "\n",
              "  [theme=dark] .colab-df-quickchart {\n",
              "      --bg-color: #3B4455;\n",
              "      --fill-color: #D2E3FC;\n",
              "      --hover-bg-color: #434B5C;\n",
              "      --hover-fill-color: #FFFFFF;\n",
              "      --disabled-bg-color: #3B4455;\n",
              "      --disabled-fill-color: #666;\n",
              "  }\n",
              "\n",
              "  .colab-df-quickchart {\n",
              "    background-color: var(--bg-color);\n",
              "    border: none;\n",
              "    border-radius: 50%;\n",
              "    cursor: pointer;\n",
              "    display: none;\n",
              "    fill: var(--fill-color);\n",
              "    height: 32px;\n",
              "    padding: 0;\n",
              "    width: 32px;\n",
              "  }\n",
              "\n",
              "  .colab-df-quickchart:hover {\n",
              "    background-color: var(--hover-bg-color);\n",
              "    box-shadow: 0 1px 2px rgba(60, 64, 67, 0.3), 0 1px 3px 1px rgba(60, 64, 67, 0.15);\n",
              "    fill: var(--button-hover-fill-color);\n",
              "  }\n",
              "\n",
              "  .colab-df-quickchart-complete:disabled,\n",
              "  .colab-df-quickchart-complete:disabled:hover {\n",
              "    background-color: var(--disabled-bg-color);\n",
              "    fill: var(--disabled-fill-color);\n",
              "    box-shadow: none;\n",
              "  }\n",
              "\n",
              "  .colab-df-spinner {\n",
              "    border: 2px solid var(--fill-color);\n",
              "    border-color: transparent;\n",
              "    border-bottom-color: var(--fill-color);\n",
              "    animation:\n",
              "      spin 1s steps(1) infinite;\n",
              "  }\n",
              "\n",
              "  @keyframes spin {\n",
              "    0% {\n",
              "      border-color: transparent;\n",
              "      border-bottom-color: var(--fill-color);\n",
              "      border-left-color: var(--fill-color);\n",
              "    }\n",
              "    20% {\n",
              "      border-color: transparent;\n",
              "      border-left-color: var(--fill-color);\n",
              "      border-top-color: var(--fill-color);\n",
              "    }\n",
              "    30% {\n",
              "      border-color: transparent;\n",
              "      border-left-color: var(--fill-color);\n",
              "      border-top-color: var(--fill-color);\n",
              "      border-right-color: var(--fill-color);\n",
              "    }\n",
              "    40% {\n",
              "      border-color: transparent;\n",
              "      border-right-color: var(--fill-color);\n",
              "      border-top-color: var(--fill-color);\n",
              "    }\n",
              "    60% {\n",
              "      border-color: transparent;\n",
              "      border-right-color: var(--fill-color);\n",
              "    }\n",
              "    80% {\n",
              "      border-color: transparent;\n",
              "      border-right-color: var(--fill-color);\n",
              "      border-bottom-color: var(--fill-color);\n",
              "    }\n",
              "    90% {\n",
              "      border-color: transparent;\n",
              "      border-bottom-color: var(--fill-color);\n",
              "    }\n",
              "  }\n",
              "</style>\n",
              "\n",
              "  <script>\n",
              "    async function quickchart(key) {\n",
              "      const quickchartButtonEl =\n",
              "        document.querySelector('#' + key + ' button');\n",
              "      quickchartButtonEl.disabled = true;  // To prevent multiple clicks.\n",
              "      quickchartButtonEl.classList.add('colab-df-spinner');\n",
              "      try {\n",
              "        const charts = await google.colab.kernel.invokeFunction(\n",
              "            'suggestCharts', [key], {});\n",
              "      } catch (error) {\n",
              "        console.error('Error during call to suggestCharts:', error);\n",
              "      }\n",
              "      quickchartButtonEl.classList.remove('colab-df-spinner');\n",
              "      quickchartButtonEl.classList.add('colab-df-quickchart-complete');\n",
              "    }\n",
              "    (() => {\n",
              "      let quickchartButtonEl =\n",
              "        document.querySelector('#df-f5e1adb9-4af5-4235-90fa-37224bd804ff button');\n",
              "      quickchartButtonEl.style.display =\n",
              "        google.colab.kernel.accessAllowed ? 'block' : 'none';\n",
              "    })();\n",
              "  </script>\n",
              "</div>\n",
              "\n",
              "    </div>\n",
              "  </div>\n"
            ]
          },
          "metadata": {},
          "execution_count": 38
        }
      ],
      "source": [
        "train_20k.head()"
      ]
    },
    {
      "cell_type": "code",
      "execution_count": null,
      "metadata": {
        "id": "wxWvL3OTYb6l"
      },
      "outputs": [],
      "source": [
        "Encoder = LabelEncoder()\n",
        "y_train_encode = Encoder.fit_transform(train_20k['tag'])"
      ]
    },
    {
      "cell_type": "code",
      "execution_count": null,
      "metadata": {
        "id": "sgVlamDcXPhL"
      },
      "outputs": [],
      "source": [
        "train_20k_labels = tf.data.Dataset.from_tensor_slices(Encoder.transform(train_20k[\"tag\"]))\n",
        "test_20k_labels = tf.data.Dataset.from_tensor_slices(Encoder.transform(test_20k[\"tag\"]))\n",
        "dev_20k_labels = tf.data.Dataset.from_tensor_slices(Encoder.transform(dev_20k[\"tag\"]))\n",
        "\n",
        "train_20k_sentences = tf.data.Dataset.from_tensor_slices((train_20k[\"text\"],train_20k[\"prev_1\"], train_20k[\"prev_2\"]))\n",
        "test_20k_sentences = tf.data.Dataset.from_tensor_slices((test_20k[\"text\"],test_20k[\"prev_1\"], test_20k[\"prev_2\"]))\n",
        "dev_20k_sentences = tf.data.Dataset.from_tensor_slices((dev_20k[\"text\"],dev_20k[\"prev_1\"], dev_20k[\"prev_2\"]))\n",
        "\n",
        "train_20k_dataset = tf.data.Dataset.zip(train_20k_sentences, train_20k_labels)\n",
        "test_20k_dataset = tf.data.Dataset.zip(test_20k_sentences, test_20k_labels)\n",
        "dev_20k_dataset = tf.data.Dataset.zip(dev_20k_sentences,  dev_20k_labels)"
      ]
    },
    {
      "cell_type": "code",
      "execution_count": null,
      "metadata": {
        "id": "yLu30k4QZY2u"
      },
      "outputs": [],
      "source": [
        "train_20k_dataset = train_20k_dataset.batch(32).prefetch(tf.data.AUTOTUNE)\n",
        "dev_20k_dataset = dev_20k_dataset.batch(32).prefetch(tf.data.AUTOTUNE)\n",
        "test_20k_dataset = test_20k_dataset.batch(32).prefetch(tf.data.AUTOTUNE)"
      ]
    },
    {
      "cell_type": "markdown",
      "metadata": {
        "id": "ojeZVPZnZsxV"
      },
      "source": [
        "# Fit the Model\n",
        "\n",
        "Lets train the base model for only 5 epochs to test it performance"
      ]
    },
    {
      "cell_type": "code",
      "execution_count": null,
      "metadata": {
        "colab": {
          "base_uri": "https://localhost:8080/"
        },
        "id": "v_RsZTXBZl92",
        "outputId": "7e96c6ca-f115-4819-b272-b6d3acb1e61d"
      },
      "outputs": [
        {
          "output_type": "stream",
          "name": "stdout",
          "text": [
            "Epoch 1/5\n",
            "1125/1125 [==============================] - 48s 33ms/step - loss: 0.8077 - Accuracy: 0.6768 - val_loss: 0.5406 - val_Accuracy: 0.7903\n",
            "Epoch 2/5\n",
            "1125/1125 [==============================] - 25s 22ms/step - loss: 0.5653 - Accuracy: 0.7790 - val_loss: 0.4851 - val_Accuracy: 0.8137\n",
            "Epoch 3/5\n",
            "1125/1125 [==============================] - 31s 28ms/step - loss: 0.5461 - Accuracy: 0.7873 - val_loss: 0.4555 - val_Accuracy: 0.8295\n",
            "Epoch 4/5\n",
            "1125/1125 [==============================] - 29s 26ms/step - loss: 0.4914 - Accuracy: 0.8141 - val_loss: 0.4528 - val_Accuracy: 0.8385\n",
            "Epoch 5/5\n",
            "1125/1125 [==============================] - 29s 26ms/step - loss: 0.4716 - Accuracy: 0.8240 - val_loss: 0.4366 - val_Accuracy: 0.8376\n"
          ]
        },
        {
          "output_type": "execute_result",
          "data": {
            "text/plain": [
              "<keras.src.callbacks.History at 0x7c3b1643ba60>"
            ]
          },
          "metadata": {},
          "execution_count": 42
        }
      ],
      "source": [
        "# Train the model\n",
        "Feed_forward_Model.compile(optimizer = \"Adam\",\n",
        "                loss = \"SparseCategoricalCrossentropy\",\n",
        "                metrics = [\"Accuracy\"])\n",
        "\n",
        "Feed_forward_Model.fit(train_20k_dataset,\n",
        "                       steps_per_epoch = int(0.2 * len(train_20k_dataset)),\n",
        "                       epochs=5,\n",
        "                       batch_size = 32,\n",
        "                       validation_data = dev_20k_dataset,\n",
        "                       )"
      ]
    },
    {
      "cell_type": "markdown",
      "metadata": {
        "id": "J8MBArwQaDiM"
      },
      "source": [
        "# Evaluate the Model"
      ]
    },
    {
      "cell_type": "code",
      "execution_count": null,
      "metadata": {
        "colab": {
          "base_uri": "https://localhost:8080/"
        },
        "id": "5iiAhmzCZxc3",
        "outputId": "25c506c1-6e4f-4119-fdd0-e1233682b80e"
      },
      "outputs": [
        {
          "output_type": "stream",
          "name": "stdout",
          "text": [
            "942/942 [==============================] - 7s 6ms/step\n"
          ]
        }
      ],
      "source": [
        "# Make predictions on the test data\n",
        "y_pred_proba = Feed_forward_Model.predict(test_20k_dataset)\n",
        "y_pred = y_pred_proba.argmax(axis = 1)"
      ]
    },
    {
      "cell_type": "code",
      "execution_count": null,
      "metadata": {
        "id": "-Tz5giwFkNz5"
      },
      "outputs": [],
      "source": [
        "y_true = Encoder.transform(test_20k[\"tag\"])"
      ]
    },
    {
      "cell_type": "code",
      "execution_count": null,
      "metadata": {
        "colab": {
          "base_uri": "https://localhost:8080/"
        },
        "id": "cYjgTRP8kZ6f",
        "outputId": "05835c7b-88aa-444d-e4b5-d9ec613471cf"
      },
      "outputs": [
        {
          "output_type": "execute_result",
          "data": {
            "text/plain": [
              "0.8320225651236104"
            ]
          },
          "metadata": {},
          "execution_count": 46
        }
      ],
      "source": [
        "accuracy = accuracy_score(y_true, y_pred)\n",
        "accuracy"
      ]
    },
    {
      "cell_type": "code",
      "execution_count": null,
      "metadata": {
        "colab": {
          "base_uri": "https://localhost:8080/"
        },
        "id": "H15Zw-iKzMvy",
        "outputId": "e75cf1fd-5cf3-4341-aca7-e2bc064e4780"
      },
      "outputs": [
        {
          "output_type": "stream",
          "name": "stdout",
          "text": [
            "              precision    recall  f1-score   support\n",
            "\n",
            "           0       0.70      0.81      0.75      3621\n",
            "           1       0.83      0.78      0.80      4571\n",
            "           2       0.91      0.87      0.89      9897\n",
            "           3       0.77      0.49      0.60      2333\n",
            "           4       0.83      0.91      0.87      9713\n",
            "\n",
            "    accuracy                           0.83     30135\n",
            "   macro avg       0.81      0.77      0.78     30135\n",
            "weighted avg       0.83      0.83      0.83     30135\n",
            "\n"
          ]
        }
      ],
      "source": [
        "clfreport = classification_report(y_true, y_pred)\n",
        "cm = confusion_matrix(y_true, y_pred)\n",
        "\n",
        "print(clfreport)"
      ]
    },
    {
      "cell_type": "code",
      "execution_count": null,
      "metadata": {
        "id": "OXOhwqcGS1Vk"
      },
      "outputs": [],
      "source": [
        "# classes = test_20k[\"tag\"].unique()\n",
        "classes = Encoder.classes_\n",
        "classes"
      ]
    },
    {
      "cell_type": "code",
      "execution_count": null,
      "metadata": {
        "colab": {
          "base_uri": "https://localhost:8080/",
          "height": 692
        },
        "id": "Wxr1WhYYzfpx",
        "outputId": "7c313945-4aac-4aee-d08a-f1e9d5ab6172"
      },
      "outputs": [
        {
          "output_type": "display_data",
          "data": {
            "text/plain": [
              "<Figure size 800x600 with 1 Axes>"
            ],
            "image/png": "[encoded data removed]"
          },
          "metadata": {}
        }
      ],
      "source": [
        "# Plot the confusion matrix as a heatmap\n",
        "plt.figure(figsize=(8, 6))\n",
        "sns.set(font_scale=1.2)  # Adjust the font size as needed\n",
        "sns.heatmap(cm, annot=True, fmt='d', cmap='Blues', cbar=False, square=True,\n",
        "            xticklabels=classes,  # Replace with your class labels\n",
        "            yticklabels=classes)  # Replace with your class labels\n",
        "plt.xlabel('Predicted')\n",
        "plt.ylabel('Actual')\n",
        "plt.title('Confusion Matrix')\n",
        "plt.show()"
      ]
    },
    {
      "cell_type": "markdown",
      "source": [
        "The model is already performing well we might just need to improve the performance by using keras tuner to find the optimal parameter"
      ],
      "metadata": {
        "id": "r_M4YMNRkLY9"
      }
    },
    {
      "cell_type": "markdown",
      "metadata": {
        "id": "Cun02owFej_L"
      },
      "source": [
        "# Improve the performance using Keras Tuner"
      ]
    },
    {
      "cell_type": "code",
      "execution_count": null,
      "metadata": {
        "colab": {
          "base_uri": "https://localhost:8080/"
        },
        "id": "PoqmHtKefllX",
        "outputId": "0d29ef6c-cb2c-493e-c6fb-b3c0a5aae68c"
      },
      "outputs": [
        {
          "output_type": "stream",
          "name": "stdout",
          "text": [
            "32\n"
          ]
        }
      ],
      "source": [
        "hp = keras_tuner.HyperParameters()\n",
        "print(hp.Int(\"units\", min_value=32, max_value=512, step=32))"
      ]
    },
    {
      "cell_type": "code",
      "execution_count": null,
      "metadata": {
        "id": "pO7xhb6Te98M"
      },
      "outputs": [],
      "source": [
        "def tuner_model(hp):\n",
        "  # Define the architecture of the forward ANN model\n",
        "\n",
        "  ## Define the S2V modedel\n",
        "  input_layer = Input(shape = (1,), dtype = 'string')\n",
        "  print(input_layer.shape)\n",
        "  Vectorizer_layer = Vectorizer(input_layer)\n",
        "  print(Vectorizer_layer.shape)\n",
        "  embedding_output_layer = Embedding_layer(Vectorizer_layer)\n",
        "  print(embedding_output_layer.shape)\n",
        "  lstm_layer = LSTM(100)(embedding_output_layer)\n",
        "  print(lstm_layer.shape)\n",
        "  output_layer = Dense(10, activation='relu')(lstm_layer)\n",
        "  text_2_Vector_model = tf.keras.Model(input_layer, output_layer)\n",
        "\n",
        "  ## Define input for current layer\n",
        "  input_current_layer = Input(shape = (1,), dtype = 'string')\n",
        "  text_2_Vector_layer = text_2_Vector_model(input_current_layer)\n",
        "  output_current_layer = Dense(10, activation='relu')(text_2_Vector_layer)\n",
        "  current_model = tf.keras.Model(input_current_layer, output_current_layer)\n",
        "  print(output_current_layer.shape)\n",
        "\n",
        "  ## Define input for preceding layer 1\n",
        "  input_preceeding_layer_1 = Input(shape = (1,), dtype = 'string')\n",
        "  text_2_Vector_preceding_layer_1 = text_2_Vector_model(input_preceeding_layer_1)\n",
        "  output_preceeding_layer_1 = Dense(10, activation='sigmoid')(text_2_Vector_preceding_layer_1)\n",
        "  preceeding_model_1 = tf.keras.Model(input_preceeding_layer_1, output_preceeding_layer_1)\n",
        "  print(output_preceeding_layer_1.shape)\n",
        "\n",
        "  ## Define input for preceding layer 2\n",
        "  input_preceeding_layer_2 = Input(shape = (1,), dtype = 'string')\n",
        "  text_2_Vector_preceding_layer_2 = text_2_Vector_model(input_preceeding_layer_2)\n",
        "  output_preceeding_layer_2 = Dense(10, activation='sigmoid')(text_2_Vector_preceding_layer_2)\n",
        "  preceeding_model_2 = tf.keras.Model(input_preceeding_layer_2, output_preceeding_layer_2)\n",
        "\n",
        "  # Concatentate\n",
        "  concatenate_layer = tf.keras.layers.Concatenate(name = \"Concatenate_Layer\")([current_model.output, preceeding_model_1.output, preceeding_model_2.output])\n",
        "\n",
        "  # Final layer\n",
        "  x = tf.keras.layers.Dropout(hp.Float(\"Drop_1_rate\", min_value=0, max_value=0.8, step=0.1))(concatenate_layer)\n",
        "  x = tf.keras.layers.Dense(hp.Int(\"units\", min_value=32, max_value=512, step=32), activation = 'relu')(x)\n",
        "  x = tf.keras.layers.Dropout(hp.Float(\"Drop_2_rate\", min_value=0, max_value=0.8, step=0.1))(x)\n",
        "  Output = tf.keras.layers.Dense(5, activation = 'softmax', name='output_node')(x)\n",
        "  Feed_forward_Model = tf.keras.Model([current_model.input, preceeding_model_1.input, preceeding_model_2.input], Output)\n",
        "  Feed_forward_Model.compile(optimizer = \"Adam\",\n",
        "                loss = \"SparseCategoricalCrossentropy\",\n",
        "                metrics = [\"Accuracy\"])\n",
        "  return Feed_forward_Model"
      ]
    },
    {
      "cell_type": "code",
      "execution_count": null,
      "metadata": {
        "colab": {
          "base_uri": "https://localhost:8080/"
        },
        "id": "sVvElfLr0NX6",
        "outputId": "bab52603-713b-4f98-f1a6-470da0829d55"
      },
      "outputs": [
        {
          "output_type": "stream",
          "name": "stdout",
          "text": [
            "(None, 1)\n",
            "(None, 15)\n",
            "(None, 15, 128)\n",
            "(None, 100)\n",
            "(None, 10)\n",
            "(None, 10)\n"
          ]
        },
        {
          "output_type": "execute_result",
          "data": {
            "text/plain": [
              "<keras.src.engine.functional.Functional at 0x7c3b2fcf4820>"
            ]
          },
          "metadata": {},
          "execution_count": 53
        }
      ],
      "source": [
        "tuner_model(keras_tuner.HyperParameters())"
      ]
    },
    {
      "cell_type": "code",
      "execution_count": null,
      "metadata": {
        "colab": {
          "base_uri": "https://localhost:8080/"
        },
        "id": "RVRu0BV-0041",
        "outputId": "85bc2490-cebb-4dfd-fc8c-bd5e654ff56b"
      },
      "outputs": [
        {
          "output_type": "stream",
          "name": "stdout",
          "text": [
            "(None, 1)\n",
            "(None, 15)\n",
            "(None, 15, 128)\n",
            "(None, 100)\n",
            "(None, 10)\n",
            "(None, 10)\n"
          ]
        }
      ],
      "source": [
        "tuner = keras_tuner.RandomSearch(\n",
        "    tuner_model,\n",
        "    objective='val_loss',\n",
        "    max_trials=5)"
      ]
    },
    {
      "cell_type": "markdown",
      "metadata": {
        "id": "629-a4pWYbTd"
      },
      "source": [
        "For the tunned model. I tunned the model with a small portion of the dataset. To speed up the accuracy"
      ]
    },
    {
      "cell_type": "code",
      "execution_count": null,
      "metadata": {
        "id": "QWtngBHx0TkR",
        "colab": {
          "base_uri": "https://localhost:8080/"
        },
        "outputId": "ea11aa8e-76c9-4e31-d811-7a4570643552"
      },
      "outputs": [
        {
          "output_type": "stream",
          "name": "stdout",
          "text": [
            "Trial 5 Complete [00h 02m 28s]\n",
            "val_loss: 0.44502273201942444\n",
            "\n",
            "Best val_loss So Far: 0.39509817957878113\n",
            "Total elapsed time: 00h 13m 48s\n"
          ]
        }
      ],
      "source": [
        "tuner.search(train_20k_dataset,\n",
        "             steps_per_epoch = int(0.2 * len(train_20k_dataset)),\n",
        "             epochs=5,\n",
        "             batch_size = 32,\n",
        "             validation_data = dev_20k_dataset)"
      ]
    },
    {
      "cell_type": "code",
      "execution_count": null,
      "metadata": {
        "id": "p2Jk09yPYrPq",
        "colab": {
          "base_uri": "https://localhost:8080/"
        },
        "outputId": "0661b7db-28b3-45b8-e111-b6e416c41e8e"
      },
      "outputs": [
        {
          "output_type": "stream",
          "name": "stdout",
          "text": [
            "(None, 1)\n",
            "(None, 15)\n",
            "(None, 15, 128)\n",
            "(None, 100)\n",
            "(None, 10)\n",
            "(None, 10)\n"
          ]
        }
      ],
      "source": [
        "best_model = tuner.get_best_models()[0]"
      ]
    },
    {
      "cell_type": "code",
      "execution_count": null,
      "metadata": {
        "id": "El2bcxukapYT"
      },
      "outputs": [],
      "source": []
    },
    {
      "cell_type": "markdown",
      "metadata": {
        "id": "Zu244HKgWI5O"
      },
      "source": [
        "# Build the best Model\n",
        "\n",
        "Use the best model to train the final model with\n",
        "1. The whole data. The 200k dataset\n",
        "2. The best parameters. All the parameters in the dataset"
      ]
    },
    {
      "cell_type": "code",
      "execution_count": null,
      "metadata": {
        "id": "IzqMbHSeWH6F",
        "colab": {
          "base_uri": "https://localhost:8080/"
        },
        "outputId": "d5669af3-ff66-4707-d193-f90e86c7994d"
      },
      "outputs": [
        {
          "output_type": "stream",
          "name": "stdout",
          "text": [
            "(None, 1)\n",
            "(None, 15)\n",
            "(None, 15, 128)\n",
            "(None, 100)\n",
            "(None, 10)\n",
            "(None, 10)\n"
          ]
        }
      ],
      "source": [
        "best_hp = tuner.get_best_hyperparameters()[0]\n",
        "Best_model = tuner.hypermodel.build(best_hp)"
      ]
    },
    {
      "cell_type": "code",
      "execution_count": null,
      "metadata": {
        "id": "2bxKfTXEiffQ",
        "colab": {
          "base_uri": "https://localhost:8080/"
        },
        "outputId": "8d301418-ed21-4a23-e127-6c22c86fd14b"
      },
      "outputs": [
        {
          "output_type": "stream",
          "name": "stdout",
          "text": [
            "Model: \"model_9\"\n",
            "__________________________________________________________________________________________________\n",
            " Layer (type)                Output Shape                 Param #   Connected to                  \n",
            "==================================================================================================\n",
            " input_6 (InputLayer)        [(None, 1)]                  0         []                            \n",
            "                                                                                                  \n",
            " input_7 (InputLayer)        [(None, 1)]                  0         []                            \n",
            "                                                                                                  \n",
            " input_8 (InputLayer)        [(None, 1)]                  0         []                            \n",
            "                                                                                                  \n",
            " model_5 (Functional)        (None, 10)                   1372610   ['input_6[0][0]',             \n",
            "                                                                     'input_7[0][0]',             \n",
            "                                                                     'input_8[0][0]']             \n",
            "                                                                                                  \n",
            " dense_6 (Dense)             (None, 10)                   110       ['model_5[0][0]']             \n",
            "                                                                                                  \n",
            " dense_7 (Dense)             (None, 10)                   110       ['model_5[1][0]']             \n",
            "                                                                                                  \n",
            " dense_8 (Dense)             (None, 10)                   110       ['model_5[2][0]']             \n",
            "                                                                                                  \n",
            " Concatenate_Layer (Concate  (None, 30)                   0         ['dense_6[0][0]',             \n",
            " nate)                                                               'dense_7[0][0]',             \n",
            "                                                                     'dense_8[0][0]']             \n",
            "                                                                                                  \n",
            " dropout_2 (Dropout)         (None, 30)                   0         ['Concatenate_Layer[0][0]']   \n",
            "                                                                                                  \n",
            " dense_9 (Dense)             (None, 352)                  10912     ['dropout_2[0][0]']           \n",
            "                                                                                                  \n",
            " dropout_3 (Dropout)         (None, 352)                  0         ['dense_9[0][0]']             \n",
            "                                                                                                  \n",
            " output_node (Dense)         (None, 5)                    1765      ['dropout_3[0][0]']           \n",
            "                                                                                                  \n",
            "==================================================================================================\n",
            "Total params: 1385617 (5.29 MB)\n",
            "Trainable params: 1385617 (5.29 MB)\n",
            "Non-trainable params: 0 (0.00 Byte)\n",
            "__________________________________________________________________________________________________\n"
          ]
        }
      ],
      "source": [
        "Best_model.summary()"
      ]
    },
    {
      "cell_type": "code",
      "execution_count": null,
      "metadata": {
        "id": "1O5mmJBF1GH9",
        "colab": {
          "base_uri": "https://localhost:8080/",
          "height": 758
        },
        "outputId": "e1050753-082c-46b4-f7dc-471ece31776b"
      },
      "outputs": [
        {
          "output_type": "execute_result",
          "data": {
            "image/png": "[encoded data removed]",
            "text/plain": [
              "<IPython.core.display.Image object>"
            ]
          },
          "metadata": {},
          "execution_count": 59
        }
      ],
      "source": [
        "# Plot hybrid token and character model\n",
        "plot_model(Best_model)"
      ]
    },
    {
      "cell_type": "markdown",
      "metadata": {
        "id": "oFbr8dcLXYlR"
      },
      "source": [
        "## Define the full Dataset"
      ]
    },
    {
      "cell_type": "code",
      "execution_count": null,
      "metadata": {
        "id": "afEZapq_Xan3"
      },
      "outputs": [],
      "source": [
        "train_200k_labels = tf.data.Dataset.from_tensor_slices(Encoder.transform(train_200k[\"tag\"]))\n",
        "test_200k_labels = tf.data.Dataset.from_tensor_slices(Encoder.transform(test_200k[\"tag\"]))\n",
        "dev_200k_labels = tf.data.Dataset.from_tensor_slices(Encoder.transform(dev_200k[\"tag\"]))\n",
        "\n",
        "train_200k_sentences = tf.data.Dataset.from_tensor_slices((train_200k[\"text\"],train_200k[\"prev_1\"], train_200k[\"prev_2\"]))\n",
        "test_200k_sentences = tf.data.Dataset.from_tensor_slices((test_200k[\"text\"],test_200k[\"prev_1\"], test_200k[\"prev_2\"]))\n",
        "dev_200k_sentences = tf.data.Dataset.from_tensor_slices((dev_200k[\"text\"],dev_200k[\"prev_1\"], dev_200k[\"prev_2\"]))\n",
        "\n",
        "train_200k_dataset = tf.data.Dataset.zip(train_200k_sentences, train_200k_labels)\n",
        "test_200k_dataset = tf.data.Dataset.zip(test_200k_sentences, test_200k_labels)\n",
        "dev_200k_dataset = tf.data.Dataset.zip(dev_200k_sentences,  dev_200k_labels)"
      ]
    },
    {
      "cell_type": "code",
      "execution_count": null,
      "metadata": {
        "id": "AgGAX_7mi-6R"
      },
      "outputs": [],
      "source": [
        "train_200k_dataset = train_200k_dataset.batch(32).prefetch(tf.data.AUTOTUNE)\n",
        "dev_200k_dataset = dev_200k_dataset.batch(32).prefetch(tf.data.AUTOTUNE)\n",
        "test_200k_dataset = test_200k_dataset.batch(32).prefetch(tf.data.AUTOTUNE)"
      ]
    },
    {
      "cell_type": "markdown",
      "source": [
        "# Fit the model"
      ],
      "metadata": {
        "id": "wxNYkMw0k6xU"
      }
    },
    {
      "cell_type": "code",
      "execution_count": null,
      "metadata": {
        "id": "5ErTRsFESApC"
      },
      "outputs": [],
      "source": [
        "EarlystoppingCallback = tf.keras.callbacks.EarlyStopping(\n",
        "    monitor='val_loss',\n",
        "    patience = 5,\n",
        "    start_from_epoch=5\n",
        ")"
      ]
    },
    {
      "cell_type": "code",
      "execution_count": null,
      "metadata": {
        "colab": {
          "background_save": true,
          "base_uri": "https://localhost:8080/"
        },
        "id": "rMS1cIRt1TkX",
        "outputId": "4ad33b0b-ccef-4ca1-cdb7-53288541923a"
      },
      "outputs": [
        {
          "output_type": "stream",
          "name": "stdout",
          "text": [
            "Epoch 1/100\n",
            "69121/69121 [==============================] - 848s 12ms/step - loss: 0.3445 - Accuracy: 0.8702 - val_loss: 0.2940 - val_Accuracy: 0.8870\n",
            "Epoch 2/100\n",
            "69121/69121 [==============================] - 820s 12ms/step - loss: 0.2993 - Accuracy: 0.8871 - val_loss: 0.2868 - val_Accuracy: 0.8903\n",
            "Epoch 3/100\n",
            "69121/69121 [==============================] - 805s 12ms/step - loss: 0.2835 - Accuracy: 0.8929 - val_loss: 0.2846 - val_Accuracy: 0.8911\n",
            "Epoch 4/100\n",
            "69121/69121 [==============================] - 786s 11ms/step - loss: 0.2737 - Accuracy: 0.8965 - val_loss: 0.2860 - val_Accuracy: 0.8904\n",
            "Epoch 5/100\n",
            "69121/69121 [==============================] - 770s 11ms/step - loss: 0.2661 - Accuracy: 0.8994 - val_loss: 0.2889 - val_Accuracy: 0.8877\n",
            "Epoch 6/100\n",
            "69121/69121 [==============================] - 778s 11ms/step - loss: 0.2598 - Accuracy: 0.9015 - val_loss: 0.2885 - val_Accuracy: 0.8885\n",
            "Epoch 7/100\n",
            "69121/69121 [==============================] - 794s 11ms/step - loss: 0.2558 - Accuracy: 0.9030 - val_loss: 0.2945 - val_Accuracy: 0.8872\n",
            "Epoch 8/100\n",
            "69121/69121 [==============================] - 793s 11ms/step - loss: 0.2530 - Accuracy: 0.9038 - val_loss: 0.2943 - val_Accuracy: 0.8866\n",
            "Epoch 9/100\n",
            "28742/69121 [===========>..................] - ETA: 7:48 - loss: 0.2505 - Accuracy: 0.9048"
          ]
        }
      ],
      "source": [
        "# Train the model\n",
        "Best_model.compile(optimizer = \"Adam\",\n",
        "                loss = \"SparseCategoricalCrossentropy\",\n",
        "                metrics = [\"Accuracy\"])\n",
        "\n",
        "Best_model.fit(train_200k_dataset,\n",
        "               callbacks = [EarlystoppingCallback],\n",
        "               epochs=100, batch_size = 32, validation_data = dev_200k_dataset)"
      ]
    },
    {
      "cell_type": "markdown",
      "metadata": {
        "id": "E_m_QC3Hca1q"
      },
      "source": [
        "# Evaluate the Model"
      ]
    },
    {
      "cell_type": "code",
      "execution_count": null,
      "metadata": {
        "id": "m85T64Ycca13"
      },
      "outputs": [],
      "source": [
        "# Make predictions on the test data\n",
        "y_pred_proba = Best_model.predict(test_20k_dataset)\n",
        "y_pred = y_pred_proba.argmax(axis = 1)"
      ]
    },
    {
      "cell_type": "code",
      "execution_count": null,
      "metadata": {
        "id": "Ds0lH73Hca14"
      },
      "outputs": [],
      "source": [
        "y_true = Encoder.transform(test_20k[\"tag\"])"
      ]
    },
    {
      "cell_type": "code",
      "execution_count": null,
      "metadata": {
        "id": "YwODArwsca14"
      },
      "outputs": [],
      "source": [
        "accuracy = accuracy_score(y_true, y_pred)\n",
        "accuracy"
      ]
    },
    {
      "cell_type": "code",
      "execution_count": null,
      "metadata": {
        "id": "PQPVE729ca14"
      },
      "outputs": [],
      "source": [
        "clfreport = classification_report(y_true, y_pred)\n",
        "cm = confusion_matrix(y_true, y_pred)\n",
        "\n",
        "print(clfreport)"
      ]
    },
    {
      "cell_type": "code",
      "execution_count": null,
      "metadata": {
        "id": "3dkV8Lqsca14"
      },
      "outputs": [],
      "source": [
        "classes = test_20k[\"tag\"].unique()\n",
        "classes"
      ]
    },
    {
      "cell_type": "code",
      "execution_count": null,
      "metadata": {
        "id": "Wdmo_ktpca15"
      },
      "outputs": [],
      "source": [
        "# Plot the confusion matrix as a heatmap\n",
        "plt.figure(figsize=(8, 6))\n",
        "sns.set(font_scale=1.2)  # Adjust the font size as needed\n",
        "sns.heatmap(cm, annot=True, fmt='d', cmap='Blues', cbar=False, square=True,\n",
        "            xticklabels=classes,  # Replace with your class labels\n",
        "            yticklabels=classes)  # Replace with your class labels\n",
        "plt.xlabel('Predicted')\n",
        "plt.ylabel('Actual')\n",
        "plt.title('Confusion Matrix')\n",
        "plt.show()"
      ]
    },
    {
      "cell_type": "markdown",
      "metadata": {
        "id": "BPzulYb0cemd"
      },
      "source": [
        "# Save the model"
      ]
    },
    {
      "cell_type": "code",
      "execution_count": null,
      "metadata": {
        "id": "LxOt0FzkFZ42"
      },
      "outputs": [],
      "source": [
        "Feed_forward_Model.summary()"
      ]
    },
    {
      "cell_type": "code",
      "execution_count": null,
      "metadata": {
        "id": "qM4pbR2O1TVs"
      },
      "outputs": [],
      "source": [
        "Feed_forward_Model.save('my_saved_model')"
      ]
    },
    {
      "cell_type": "code",
      "execution_count": null,
      "metadata": {
        "id": "v7U-FhTsIJ1s"
      },
      "outputs": [],
      "source": []
    },
    {
      "cell_type": "code",
      "execution_count": null,
      "metadata": {
        "id": "2WgvMZUY2OZ0"
      },
      "outputs": [],
      "source": [
        "!zip -r Model.zip my_saved_model"
      ]
    }
  ],
  "metadata": {
    "colab": {
      "provenance": [],
      "gpuType": "T4"
    },
    "kernelspec": {
      "display_name": "Python 3",
      "name": "python3"
    },
    "language_info": {
      "name": "python"
    },
    "accelerator": "GPU"
  },
  "nbformat": 4,
  "nbformat_minor": 0
}